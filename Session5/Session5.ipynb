{
  "nbformat": 4,
  "nbformat_minor": 0,
  "metadata": {
    "colab": {
      "name": "Session5.ipynb",
      "version": "0.3.2",
      "provenance": [],
      "collapsed_sections": [],
      "include_colab_link": true
    },
    "kernelspec": {
      "name": "python3",
      "display_name": "Python 3"
    },
    "accelerator": "GPU"
  },
  "cells": [
    {
      "cell_type": "markdown",
      "metadata": {
        "id": "view-in-github",
        "colab_type": "text"
      },
      "source": [
        "<a href=\"https://colab.research.google.com/github/AbhilashIngale/EVA-Projects/blob/master/Session5/Session5.ipynb\" target=\"_parent\"><img src=\"https://colab.research.google.com/assets/colab-badge.svg\" alt=\"Open In Colab\"/></a>"
      ]
    },
    {
      "cell_type": "code",
      "metadata": {
        "id": "0SJyVpgSxHt4",
        "colab_type": "code",
        "colab": {}
      },
      "source": [
        "# Import basic dependancies and packages from keras\n",
        "\n",
        "import numpy as np\n",
        "\n",
        "from keras.models import Sequential\n",
        "from keras.layers import Dense, Dropout, Activation, Flatten, Add, BatchNormalization\n",
        "from keras.layers import Convolution2D, MaxPooling2D\n",
        "from keras.utils import np_utils\n",
        "\n",
        "from keras.datasets import mnist"
      ],
      "execution_count": 0,
      "outputs": []
    },
    {
      "cell_type": "code",
      "metadata": {
        "id": "YlEUplvoxKAT",
        "colab_type": "code",
        "colab": {}
      },
      "source": [
        "(X_train, y_train), (X_test, y_test) = mnist.load_data()\n"
      ],
      "execution_count": 0,
      "outputs": []
    },
    {
      "cell_type": "code",
      "metadata": {
        "id": "I6Y9Va-xxMXG",
        "colab_type": "code",
        "outputId": "af27b7b6-0307-427e-9564-819d6b2ed263",
        "colab": {
          "base_uri": "https://localhost:8080/",
          "height": 306
        }
      },
      "source": [
        "print (X_train.shape)\n",
        "from matplotlib import pyplot as plt\n",
        "%matplotlib inline\n",
        "plt.imshow(X_train[1])"
      ],
      "execution_count": 144,
      "outputs": [
        {
          "output_type": "stream",
          "text": [
            "(60000, 28, 28)\n"
          ],
          "name": "stdout"
        },
        {
          "output_type": "execute_result",
          "data": {
            "text/plain": [
              "<matplotlib.image.AxesImage at 0x7f9d53ab3d68>"
            ]
          },
          "metadata": {
            "tags": []
          },
          "execution_count": 144
        },
        {
          "output_type": "display_data",
          "data": {
            "image/png": "[encoded data removed]",
            "text/plain": [
              "<Figure size 432x288 with 1 Axes>"
            ]
          },
          "metadata": {
            "tags": []
          }
        }
      ]
    },
    {
      "cell_type": "code",
      "metadata": {
        "id": "lxDZxPhhxOgO",
        "colab_type": "code",
        "colab": {}
      },
      "source": [
        "X_train = X_train.reshape(X_train.shape[0], 28, 28,1)\n",
        "X_test = X_test.reshape(X_test.shape[0], 28, 28,1)"
      ],
      "execution_count": 0,
      "outputs": []
    },
    {
      "cell_type": "code",
      "metadata": {
        "id": "3HzMqbTnxQQW",
        "colab_type": "code",
        "colab": {}
      },
      "source": [
        "X_train = X_train.astype('float32')\n",
        "X_test = X_test.astype('float32')\n",
        "X_train /= 255\n",
        "X_test /= 255"
      ],
      "execution_count": 0,
      "outputs": []
    },
    {
      "cell_type": "code",
      "metadata": {
        "id": "7LdYiW6ixR9e",
        "colab_type": "code",
        "colab": {}
      },
      "source": [
        "y_train[:10]\n",
        "Y_train = np_utils.to_categorical(y_train, 10)\n",
        "Y_test = np_utils.to_categorical(y_test, 10)"
      ],
      "execution_count": 0,
      "outputs": []
    },
    {
      "cell_type": "code",
      "metadata": {
        "id": "rFR0F9j0xVp2",
        "colab_type": "code",
        "outputId": "4ff87c77-e6c8-4685-c666-642ac0e8127b",
        "colab": {
          "base_uri": "https://localhost:8080/",
          "height": 201
        }
      },
      "source": [
        "Y_train[:10]"
      ],
      "execution_count": 148,
      "outputs": [
        {
          "output_type": "execute_result",
          "data": {
            "text/plain": [
              "array([[0., 0., 0., 0., 0., 1., 0., 0., 0., 0.],\n",
              "       [1., 0., 0., 0., 0., 0., 0., 0., 0., 0.],\n",
              "       [0., 0., 0., 0., 1., 0., 0., 0., 0., 0.],\n",
              "       [0., 1., 0., 0., 0., 0., 0., 0., 0., 0.],\n",
              "       [0., 0., 0., 0., 0., 0., 0., 0., 0., 1.],\n",
              "       [0., 0., 1., 0., 0., 0., 0., 0., 0., 0.],\n",
              "       [0., 1., 0., 0., 0., 0., 0., 0., 0., 0.],\n",
              "       [0., 0., 0., 1., 0., 0., 0., 0., 0., 0.],\n",
              "       [0., 1., 0., 0., 0., 0., 0., 0., 0., 0.],\n",
              "       [0., 0., 0., 0., 1., 0., 0., 0., 0., 0.]], dtype=float32)"
            ]
          },
          "metadata": {
            "tags": []
          },
          "execution_count": 148
        }
      ]
    },
    {
      "cell_type": "code",
      "metadata": {
        "id": "mDpXf4YQxXRm",
        "colab_type": "code",
        "outputId": "4931a591-dabb-411b-d5a9-93d0db148102",
        "colab": {
          "base_uri": "https://localhost:8080/",
          "height": 1488
        }
      },
      "source": [
        "# Import dependancies and packages from keras \n",
        "from keras.layers.convolutional import Conv2D\n",
        "from keras.layers import Activation\n",
        "from keras import regularizers\n",
        "\n",
        "model = Sequential()\n",
        " \n",
        "model.add(Conv2D(16, 3, 3, input_shape=(28,28,1),kernel_regularizer=regularizers.l2(0.01))) #26\n",
        "model.add(BatchNormalization())\n",
        "model.add(Activation('relu'))\n",
        "model.add(Dropout(0.1))\n",
        "\n",
        "model.add(Conv2D(32, 3, 3)) #24\n",
        "model.add(BatchNormalization())\n",
        "model.add(Activation('relu'))\n",
        "model.add(Dropout(0.1))\n",
        "\n",
        "model.add(Conv2D(10, 1, 1)) #22\n",
        "\n",
        "model.add(MaxPooling2D(pool_size=(2, 2)))#11\n",
        "\n",
        "model.add(Conv2D(16, 3, 3))#9\n",
        "model.add(BatchNormalization())\n",
        "model.add(Activation('relu'))\n",
        "model.add(Dropout(0.1))\n",
        "\n",
        "\n",
        "model.add(Conv2D(16, 3, 3))#7\n",
        "model.add(BatchNormalization())\n",
        "model.add(Activation('relu'))\n",
        "model.add(Dropout(0.1))\n",
        "\n",
        "\n",
        "model.add(Conv2D(16, 3, 3))#5\n",
        "model.add(BatchNormalization())\n",
        "model.add(Activation('relu'))\n",
        "model.add(Dropout(0.1))\n",
        "\n",
        "\n",
        "model.add(Conv2D(16, 3, 3))#3\n",
        "model.add(BatchNormalization())\n",
        "model.add(Activation('relu'))\n",
        "model.add(Dropout(0.1))\n",
        "\n",
        "\n",
        "model.add(Conv2D(10, 4, 4))\n",
        "model.add(BatchNormalization())\n",
        "model.add(Dropout(0.1))\n",
        "\n",
        "\n",
        "model.add(Flatten())\n",
        "model.add(Activation('softmax'))\n",
        "\n",
        "\n",
        "model.summary()"
      ],
      "execution_count": 149,
      "outputs": [
        {
          "output_type": "stream",
          "text": [
            "/usr/local/lib/python3.6/dist-packages/ipykernel_launcher.py:7: UserWarning: Update your `Conv2D` call to the Keras 2 API: `Conv2D(16, (3, 3), input_shape=(28, 28, 1..., kernel_regularizer=<keras.reg...)`\n",
            "  import sys\n",
            "/usr/local/lib/python3.6/dist-packages/ipykernel_launcher.py:12: UserWarning: Update your `Conv2D` call to the Keras 2 API: `Conv2D(32, (3, 3))`\n",
            "  if sys.path[0] == '':\n",
            "/usr/local/lib/python3.6/dist-packages/ipykernel_launcher.py:17: UserWarning: Update your `Conv2D` call to the Keras 2 API: `Conv2D(10, (1, 1))`\n",
            "/usr/local/lib/python3.6/dist-packages/ipykernel_launcher.py:21: UserWarning: Update your `Conv2D` call to the Keras 2 API: `Conv2D(16, (3, 3))`\n",
            "/usr/local/lib/python3.6/dist-packages/ipykernel_launcher.py:27: UserWarning: Update your `Conv2D` call to the Keras 2 API: `Conv2D(16, (3, 3))`\n",
            "/usr/local/lib/python3.6/dist-packages/ipykernel_launcher.py:33: UserWarning: Update your `Conv2D` call to the Keras 2 API: `Conv2D(16, (3, 3))`\n",
            "/usr/local/lib/python3.6/dist-packages/ipykernel_launcher.py:39: UserWarning: Update your `Conv2D` call to the Keras 2 API: `Conv2D(16, (3, 3))`\n"
          ],
          "name": "stderr"
        },
        {
          "output_type": "stream",
          "text": [
            "_________________________________________________________________\n",
            "Layer (type)                 Output Shape              Param #   \n",
            "=================================================================\n",
            "conv2d_82 (Conv2D)           (None, 26, 26, 16)        160       \n",
            "_________________________________________________________________\n",
            "batch_normalization_72 (Batc (None, 26, 26, 16)        64        \n",
            "_________________________________________________________________\n",
            "activation_71 (Activation)   (None, 26, 26, 16)        0         \n",
            "_________________________________________________________________\n",
            "dropout_71 (Dropout)         (None, 26, 26, 16)        0         \n",
            "_________________________________________________________________\n",
            "conv2d_83 (Conv2D)           (None, 24, 24, 32)        4640      \n",
            "_________________________________________________________________\n",
            "batch_normalization_73 (Batc (None, 24, 24, 32)        128       \n",
            "_________________________________________________________________\n",
            "activation_72 (Activation)   (None, 24, 24, 32)        0         \n",
            "_________________________________________________________________\n",
            "dropout_72 (Dropout)         (None, 24, 24, 32)        0         \n",
            "_________________________________________________________________\n",
            "conv2d_84 (Conv2D)           (None, 24, 24, 10)        330       \n",
            "_________________________________________________________________\n",
            "max_pooling2d_11 (MaxPooling (None, 12, 12, 10)        0         \n",
            "_________________________________________________________________\n",
            "conv2d_85 (Conv2D)           (None, 10, 10, 16)        1456      \n",
            "_________________________________________________________________\n",
            "batch_normalization_74 (Batc (None, 10, 10, 16)        64        \n",
            "_________________________________________________________________\n",
            "activation_73 (Activation)   (None, 10, 10, 16)        0         \n",
            "_________________________________________________________________\n",
            "dropout_73 (Dropout)         (None, 10, 10, 16)        0         \n",
            "_________________________________________________________________\n",
            "conv2d_86 (Conv2D)           (None, 8, 8, 16)          2320      \n",
            "_________________________________________________________________\n",
            "batch_normalization_75 (Batc (None, 8, 8, 16)          64        \n",
            "_________________________________________________________________\n",
            "activation_74 (Activation)   (None, 8, 8, 16)          0         \n",
            "_________________________________________________________________\n",
            "dropout_74 (Dropout)         (None, 8, 8, 16)          0         \n",
            "_________________________________________________________________\n",
            "conv2d_87 (Conv2D)           (None, 6, 6, 16)          2320      \n",
            "_________________________________________________________________\n",
            "batch_normalization_76 (Batc (None, 6, 6, 16)          64        \n",
            "_________________________________________________________________\n",
            "activation_75 (Activation)   (None, 6, 6, 16)          0         \n",
            "_________________________________________________________________\n",
            "dropout_75 (Dropout)         (None, 6, 6, 16)          0         \n",
            "_________________________________________________________________\n",
            "conv2d_88 (Conv2D)           (None, 4, 4, 16)          2320      \n",
            "_________________________________________________________________\n",
            "batch_normalization_77 (Batc (None, 4, 4, 16)          64        \n",
            "_________________________________________________________________\n",
            "activation_76 (Activation)   (None, 4, 4, 16)          0         \n",
            "_________________________________________________________________\n",
            "dropout_76 (Dropout)         (None, 4, 4, 16)          0         \n",
            "_________________________________________________________________\n",
            "conv2d_89 (Conv2D)           (None, 1, 1, 10)          2570      \n",
            "_________________________________________________________________\n",
            "batch_normalization_78 (Batc (None, 1, 1, 10)          40        \n",
            "_________________________________________________________________\n",
            "dropout_77 (Dropout)         (None, 1, 1, 10)          0         \n",
            "_________________________________________________________________\n",
            "flatten_11 (Flatten)         (None, 10)                0         \n",
            "_________________________________________________________________\n",
            "activation_77 (Activation)   (None, 10)                0         \n",
            "=================================================================\n",
            "Total params: 16,604\n",
            "Trainable params: 16,360\n",
            "Non-trainable params: 244\n",
            "_________________________________________________________________\n"
          ],
          "name": "stdout"
        },
        {
          "output_type": "stream",
          "text": [
            "/usr/local/lib/python3.6/dist-packages/ipykernel_launcher.py:45: UserWarning: Update your `Conv2D` call to the Keras 2 API: `Conv2D(10, (4, 4))`\n"
          ],
          "name": "stderr"
        }
      ]
    },
    {
      "cell_type": "code",
      "metadata": {
        "id": "oGd0Twa1dUhJ",
        "colab_type": "code",
        "colab": {}
      },
      "source": [
        "#  Import IDG and apply Normalisation\n",
        "from keras.preprocessing.image import ImageDataGenerator\n",
        "datagen = ImageDataGenerator(featurewise_center=True, featurewise_std_normalization=True)\n",
        "\n",
        "train_iterator = datagen.flow(X_train, Y_train, batch_size=128, shuffle=False)\n",
        "val_iterator = datagen.flow(X_test, Y_test, batch_size=128, shuffle=False)"
      ],
      "execution_count": 0,
      "outputs": []
    },
    {
      "cell_type": "code",
      "metadata": {
        "id": "uaHkJogXie4x",
        "colab_type": "code",
        "colab": {}
      },
      "source": [
        "# Insert checkpoints to sace model \n",
        "from keras.callbacks import *\n",
        "filepath='sample_data/session5_best_model.hdf5'\n",
        "\n",
        "checkpoint = ModelCheckpoint(filepath, monitor = 'val_acc', verbose=1, save_best_only=True, save_weights_only=False, mode='max',  period=1)\n"
      ],
      "execution_count": 0,
      "outputs": []
    },
    {
      "cell_type": "code",
      "metadata": {
        "id": "L2IicGJ4x3Be",
        "colab_type": "code",
        "outputId": "a49152fe-4b3e-4314-c072-392f52556bf3",
        "colab": {
          "base_uri": "https://localhost:8080/",
          "height": 4610
        }
      },
      "source": [
        "# Define the LR cheduler and compile the model\n",
        "from keras.optimizers import Adam\n",
        "from keras.callbacks import LearningRateScheduler\n",
        "def scheduler(epoch, lr):\n",
        "  return round(0.003 * 1/(1 + 0.319 * epoch), 10)\n",
        "\n",
        "model.compile(loss='categorical_crossentropy', optimizer=Adam(lr=0.003), metrics=['accuracy'])\n",
        "\n",
        "# Load a previously saved model\n",
        "# model = load_model('content/sample_data/session5_best_model.hdf5')\n",
        "\n",
        "# Fit the datagen to the model\n",
        "model.fit_generator(train_iterator, steps_per_epoch=512, verbose=1,nb_epoch=40,validation_data=val_iterator,validation_steps = 64, callbacks=[checkpoint,LearningRateScheduler(scheduler, verbose=1)])\n",
        "#model.fit(X_train, Y_train, batch_size=128, epochs=20, verbose=1, validation_data=(X_test, Y_test), callbacks=[LearningRateScheduler(scheduler, verbose=1)])\n"
      ],
      "execution_count": 152,
      "outputs": [
        {
          "output_type": "stream",
          "text": [
            "/usr/local/lib/python3.6/dist-packages/ipykernel_launcher.py:9: UserWarning: The semantics of the Keras 2 argument `steps_per_epoch` is not the same as the Keras 1 argument `samples_per_epoch`. `steps_per_epoch` is the number of batches to draw from the generator at each epoch. Basically steps_per_epoch = samples_per_epoch/batch_size. Similarly `nb_val_samples`->`validation_steps` and `val_samples`->`steps` arguments have changed. Update your method calls accordingly.\n",
            "  if __name__ == '__main__':\n",
            "/usr/local/lib/python3.6/dist-packages/ipykernel_launcher.py:9: UserWarning: Update your `fit_generator` call to the Keras 2 API: `fit_generator(<keras_pre..., steps_per_epoch=512, verbose=1, validation_data=<keras_pre..., validation_steps=64, callbacks=[<keras.ca..., epochs=40)`\n",
            "  if __name__ == '__main__':\n"
          ],
          "name": "stderr"
        },
        {
          "output_type": "stream",
          "text": [
            "Epoch 1/40\n"
          ],
          "name": "stdout"
        },
        {
          "output_type": "stream",
          "text": [
            "/usr/local/lib/python3.6/dist-packages/keras_preprocessing/image/image_data_generator.py:699: UserWarning: This ImageDataGenerator specifies `featurewise_center`, but it hasn't been fit on any training data. Fit it first by calling `.fit(numpy_data)`.\n",
            "  warnings.warn('This ImageDataGenerator specifies '\n",
            "/usr/local/lib/python3.6/dist-packages/keras_preprocessing/image/image_data_generator.py:707: UserWarning: This ImageDataGenerator specifies `featurewise_std_normalization`, but it hasn't been fit on any training data. Fit it first by calling `.fit(numpy_data)`.\n",
            "  warnings.warn('This ImageDataGenerator specifies '\n"
          ],
          "name": "stderr"
        },
        {
          "output_type": "stream",
          "text": [
            "\n",
            "Epoch 00001: LearningRateScheduler setting learning rate to 0.003.\n",
            "512/512 [==============================] - 19s 37ms/step - loss: 0.5215 - acc: 0.8582 - val_loss: 0.2196 - val_acc: 0.9602\n",
            "\n",
            "Epoch 00001: val_acc improved from -inf to 0.96021, saving model to sample_data/session5_best_model.hdf5\n",
            "Epoch 2/40\n",
            "\n",
            "Epoch 00002: LearningRateScheduler setting learning rate to 0.0022744503.\n",
            "512/512 [==============================] - 9s 18ms/step - loss: 0.2454 - acc: 0.9285 - val_loss: 0.1484 - val_acc: 0.9649\n",
            "\n",
            "Epoch 00002: val_acc improved from 0.96021 to 0.96485, saving model to sample_data/session5_best_model.hdf5\n",
            "Epoch 3/40\n",
            "\n",
            "Epoch 00003: LearningRateScheduler setting learning rate to 0.0018315018.\n",
            "512/512 [==============================] - 9s 18ms/step - loss: 0.1919 - acc: 0.9414 - val_loss: 0.0605 - val_acc: 0.9863\n",
            "\n",
            "Epoch 00003: val_acc improved from 0.96485 to 0.98626, saving model to sample_data/session5_best_model.hdf5\n",
            "Epoch 4/40\n",
            "\n",
            "Epoch 00004: LearningRateScheduler setting learning rate to 0.0015329586.\n",
            "512/512 [==============================] - 9s 18ms/step - loss: 0.1640 - acc: 0.9472 - val_loss: 0.0551 - val_acc: 0.9864\n",
            "\n",
            "Epoch 00004: val_acc improved from 0.98626 to 0.98639, saving model to sample_data/session5_best_model.hdf5\n",
            "Epoch 5/40\n",
            "\n",
            "Epoch 00005: LearningRateScheduler setting learning rate to 0.0013181019.\n",
            "512/512 [==============================] - 9s 18ms/step - loss: 0.1455 - acc: 0.9509 - val_loss: 0.0389 - val_acc: 0.9907\n",
            "\n",
            "Epoch 00005: val_acc improved from 0.98639 to 0.99072, saving model to sample_data/session5_best_model.hdf5\n",
            "Epoch 6/40\n",
            "\n",
            "Epoch 00006: LearningRateScheduler setting learning rate to 0.0011560694.\n",
            "512/512 [==============================] - 9s 18ms/step - loss: 0.1335 - acc: 0.9523 - val_loss: 0.0471 - val_acc: 0.9885\n",
            "\n",
            "Epoch 00006: val_acc did not improve from 0.99072\n",
            "Epoch 7/40\n",
            "\n",
            "Epoch 00007: LearningRateScheduler setting learning rate to 0.0010295127.\n",
            "512/512 [==============================] - 9s 18ms/step - loss: 0.1230 - acc: 0.9529 - val_loss: 0.0315 - val_acc: 0.9926\n",
            "\n",
            "Epoch 00007: val_acc improved from 0.99072 to 0.99257, saving model to sample_data/session5_best_model.hdf5\n",
            "Epoch 8/40\n",
            "\n",
            "Epoch 00008: LearningRateScheduler setting learning rate to 0.0009279307.\n",
            "512/512 [==============================] - 9s 18ms/step - loss: 0.1174 - acc: 0.9549 - val_loss: 0.0343 - val_acc: 0.9912\n",
            "\n",
            "Epoch 00008: val_acc did not improve from 0.99257\n",
            "Epoch 9/40\n",
            "\n",
            "Epoch 00009: LearningRateScheduler setting learning rate to 0.0008445946.\n",
            "512/512 [==============================] - 9s 18ms/step - loss: 0.1138 - acc: 0.9557 - val_loss: 0.0310 - val_acc: 0.9936\n",
            "\n",
            "Epoch 00009: val_acc improved from 0.99257 to 0.99356, saving model to sample_data/session5_best_model.hdf5\n",
            "Epoch 10/40\n",
            "\n",
            "Epoch 00010: LearningRateScheduler setting learning rate to 0.0007749935.\n",
            "512/512 [==============================] - 9s 18ms/step - loss: 0.1118 - acc: 0.9546 - val_loss: 0.0262 - val_acc: 0.9934\n",
            "\n",
            "Epoch 00010: val_acc did not improve from 0.99356\n",
            "Epoch 11/40\n",
            "\n",
            "Epoch 00011: LearningRateScheduler setting learning rate to 0.0007159905.\n",
            "512/512 [==============================] - 9s 18ms/step - loss: 0.1040 - acc: 0.9564 - val_loss: 0.0210 - val_acc: 0.9939\n",
            "\n",
            "Epoch 00011: val_acc improved from 0.99356 to 0.99390, saving model to sample_data/session5_best_model.hdf5\n",
            "Epoch 12/40\n",
            "\n",
            "Epoch 00012: LearningRateScheduler setting learning rate to 0.000665336.\n",
            "512/512 [==============================] - 9s 18ms/step - loss: 0.1024 - acc: 0.9573 - val_loss: 0.0307 - val_acc: 0.9915\n",
            "\n",
            "Epoch 00012: val_acc did not improve from 0.99390\n",
            "Epoch 13/40\n",
            "\n",
            "Epoch 00013: LearningRateScheduler setting learning rate to 0.0006213753.\n",
            "512/512 [==============================] - 9s 18ms/step - loss: 0.1035 - acc: 0.9547 - val_loss: 0.0311 - val_acc: 0.9907\n",
            "\n",
            "Epoch 00013: val_acc did not improve from 0.99390\n",
            "Epoch 14/40\n",
            "\n",
            "Epoch 00014: LearningRateScheduler setting learning rate to 0.0005828638.\n",
            "512/512 [==============================] - 9s 18ms/step - loss: 0.0986 - acc: 0.9565 - val_loss: 0.0356 - val_acc: 0.9900\n",
            "\n",
            "Epoch 00014: val_acc did not improve from 0.99390\n",
            "Epoch 15/40\n",
            "\n",
            "Epoch 00015: LearningRateScheduler setting learning rate to 0.0005488474.\n",
            "512/512 [==============================] - 9s 18ms/step - loss: 0.0956 - acc: 0.9568 - val_loss: 0.0196 - val_acc: 0.9948\n",
            "\n",
            "Epoch 00015: val_acc improved from 0.99390 to 0.99480, saving model to sample_data/session5_best_model.hdf5\n",
            "Epoch 16/40\n",
            "\n",
            "Epoch 00016: LearningRateScheduler setting learning rate to 0.0005185825.\n",
            "512/512 [==============================] - 9s 18ms/step - loss: 0.0949 - acc: 0.9579 - val_loss: 0.0283 - val_acc: 0.9922\n",
            "\n",
            "Epoch 00016: val_acc did not improve from 0.99480\n",
            "Epoch 17/40\n",
            "\n",
            "Epoch 00017: LearningRateScheduler setting learning rate to 0.000491481.\n",
            "512/512 [==============================] - 9s 18ms/step - loss: 0.0937 - acc: 0.9568 - val_loss: 0.0268 - val_acc: 0.9928\n",
            "\n",
            "Epoch 00017: val_acc did not improve from 0.99480\n",
            "Epoch 18/40\n",
            "\n",
            "Epoch 00018: LearningRateScheduler setting learning rate to 0.0004670715.\n",
            "512/512 [==============================] - 9s 18ms/step - loss: 0.0948 - acc: 0.9570 - val_loss: 0.0213 - val_acc: 0.9948\n",
            "\n",
            "Epoch 00018: val_acc did not improve from 0.99480\n",
            "Epoch 19/40\n",
            "\n",
            "Epoch 00019: LearningRateScheduler setting learning rate to 0.0004449718.\n",
            "512/512 [==============================] - 9s 18ms/step - loss: 0.0913 - acc: 0.9576 - val_loss: 0.0267 - val_acc: 0.9931\n",
            "\n",
            "Epoch 00019: val_acc did not improve from 0.99480\n",
            "Epoch 20/40\n",
            "\n",
            "Epoch 00020: LearningRateScheduler setting learning rate to 0.000424869.\n",
            "512/512 [==============================] - 9s 18ms/step - loss: 0.0912 - acc: 0.9580 - val_loss: 0.0251 - val_acc: 0.9932\n",
            "\n",
            "Epoch 00020: val_acc did not improve from 0.99480\n",
            "Epoch 21/40\n",
            "\n",
            "Epoch 00021: LearningRateScheduler setting learning rate to 0.0004065041.\n",
            "512/512 [==============================] - 9s 18ms/step - loss: 0.0903 - acc: 0.9586 - val_loss: 0.0217 - val_acc: 0.9947\n",
            "\n",
            "Epoch 00021: val_acc did not improve from 0.99480\n",
            "Epoch 22/40\n",
            "\n",
            "Epoch 00022: LearningRateScheduler setting learning rate to 0.000389661.\n",
            "512/512 [==============================] - 9s 18ms/step - loss: 0.0889 - acc: 0.9583 - val_loss: 0.0207 - val_acc: 0.9943\n",
            "\n",
            "Epoch 00022: val_acc did not improve from 0.99480\n",
            "Epoch 23/40\n",
            "\n",
            "Epoch 00023: LearningRateScheduler setting learning rate to 0.0003741581.\n",
            "512/512 [==============================] - 9s 18ms/step - loss: 0.0876 - acc: 0.9592 - val_loss: 0.0206 - val_acc: 0.9941\n",
            "\n",
            "Epoch 00023: val_acc did not improve from 0.99480\n",
            "Epoch 24/40\n",
            "\n",
            "Epoch 00024: LearningRateScheduler setting learning rate to 0.0003598417.\n",
            "512/512 [==============================] - 9s 18ms/step - loss: 0.0868 - acc: 0.9594 - val_loss: 0.0275 - val_acc: 0.9926\n",
            "\n",
            "Epoch 00024: val_acc did not improve from 0.99480\n",
            "Epoch 25/40\n",
            "\n",
            "Epoch 00025: LearningRateScheduler setting learning rate to 0.0003465804.\n",
            "512/512 [==============================] - 9s 18ms/step - loss: 0.0875 - acc: 0.9588 - val_loss: 0.0221 - val_acc: 0.9944\n",
            "\n",
            "Epoch 00025: val_acc did not improve from 0.99480\n",
            "Epoch 26/40\n",
            "\n",
            "Epoch 00026: LearningRateScheduler setting learning rate to 0.0003342618.\n",
            "512/512 [==============================] - 9s 18ms/step - loss: 0.0864 - acc: 0.9594 - val_loss: 0.0169 - val_acc: 0.9959\n",
            "\n",
            "Epoch 00026: val_acc improved from 0.99480 to 0.99592, saving model to sample_data/session5_best_model.hdf5\n",
            "Epoch 27/40\n",
            "\n",
            "Epoch 00027: LearningRateScheduler setting learning rate to 0.0003227889.\n",
            "512/512 [==============================] - 9s 18ms/step - loss: 0.0853 - acc: 0.9603 - val_loss: 0.0239 - val_acc: 0.9932\n",
            "\n",
            "Epoch 00027: val_acc did not improve from 0.99592\n",
            "Epoch 28/40\n",
            "\n",
            "Epoch 00028: LearningRateScheduler setting learning rate to 0.0003120774.\n",
            "512/512 [==============================] - 9s 18ms/step - loss: 0.0852 - acc: 0.9599 - val_loss: 0.0257 - val_acc: 0.9937\n",
            "\n",
            "Epoch 00028: val_acc did not improve from 0.99592\n",
            "Epoch 29/40\n",
            "\n",
            "Epoch 00029: LearningRateScheduler setting learning rate to 0.000302054.\n",
            "512/512 [==============================] - 9s 18ms/step - loss: 0.0820 - acc: 0.9593 - val_loss: 0.0226 - val_acc: 0.9937\n",
            "\n",
            "Epoch 00029: val_acc did not improve from 0.99592\n",
            "Epoch 30/40\n",
            "\n",
            "Epoch 00030: LearningRateScheduler setting learning rate to 0.0002926544.\n",
            "512/512 [==============================] - 9s 18ms/step - loss: 0.0843 - acc: 0.9595 - val_loss: 0.0226 - val_acc: 0.9943\n",
            "\n",
            "Epoch 00030: val_acc did not improve from 0.99592\n",
            "Epoch 31/40\n",
            "\n",
            "Epoch 00031: LearningRateScheduler setting learning rate to 0.0002838221.\n",
            "512/512 [==============================] - 9s 18ms/step - loss: 0.0842 - acc: 0.9586 - val_loss: 0.0193 - val_acc: 0.9958\n",
            "\n",
            "Epoch 00031: val_acc did not improve from 0.99592\n",
            "Epoch 32/40\n",
            "\n",
            "Epoch 00032: LearningRateScheduler setting learning rate to 0.0002755074.\n",
            "512/512 [==============================] - 9s 18ms/step - loss: 0.0817 - acc: 0.9605 - val_loss: 0.0185 - val_acc: 0.9960\n",
            "\n",
            "Epoch 00032: val_acc improved from 0.99592 to 0.99597, saving model to sample_data/session5_best_model.hdf5\n",
            "Epoch 33/40\n",
            "\n",
            "Epoch 00033: LearningRateScheduler setting learning rate to 0.000267666.\n",
            "512/512 [==============================] - 9s 18ms/step - loss: 0.0829 - acc: 0.9600 - val_loss: 0.0246 - val_acc: 0.9944\n",
            "\n",
            "Epoch 00033: val_acc did not improve from 0.99597\n",
            "Epoch 34/40\n",
            "\n",
            "Epoch 00034: LearningRateScheduler setting learning rate to 0.0002602585.\n",
            "512/512 [==============================] - 9s 18ms/step - loss: 0.0822 - acc: 0.9598 - val_loss: 0.0206 - val_acc: 0.9943\n",
            "\n",
            "Epoch 00034: val_acc did not improve from 0.99597\n",
            "Epoch 35/40\n",
            "\n",
            "Epoch 00035: LearningRateScheduler setting learning rate to 0.00025325.\n",
            "512/512 [==============================] - 9s 18ms/step - loss: 0.0825 - acc: 0.9590 - val_loss: 0.0240 - val_acc: 0.9946\n",
            "\n",
            "Epoch 00035: val_acc did not improve from 0.99597\n",
            "Epoch 36/40\n",
            "\n",
            "Epoch 00036: LearningRateScheduler setting learning rate to 0.0002466091.\n",
            "512/512 [==============================] - 9s 18ms/step - loss: 0.0817 - acc: 0.9595 - val_loss: 0.0197 - val_acc: 0.9947\n",
            "\n",
            "Epoch 00036: val_acc did not improve from 0.99597\n",
            "Epoch 37/40\n",
            "\n",
            "Epoch 00037: LearningRateScheduler setting learning rate to 0.0002403076.\n",
            "512/512 [==============================] - 9s 18ms/step - loss: 0.0813 - acc: 0.9599 - val_loss: 0.0224 - val_acc: 0.9939\n",
            "\n",
            "Epoch 00037: val_acc did not improve from 0.99597\n",
            "Epoch 38/40\n",
            "\n",
            "Epoch 00038: LearningRateScheduler setting learning rate to 0.0002343201.\n",
            "512/512 [==============================] - 9s 18ms/step - loss: 0.0799 - acc: 0.9605 - val_loss: 0.0236 - val_acc: 0.9943\n",
            "\n",
            "Epoch 00038: val_acc did not improve from 0.99597\n",
            "Epoch 39/40\n",
            "\n",
            "Epoch 00039: LearningRateScheduler setting learning rate to 0.0002286237.\n",
            "512/512 [==============================] - 9s 18ms/step - loss: 0.0805 - acc: 0.9613 - val_loss: 0.0222 - val_acc: 0.9947\n",
            "\n",
            "Epoch 00039: val_acc did not improve from 0.99597\n",
            "Epoch 40/40\n",
            "\n",
            "Epoch 00040: LearningRateScheduler setting learning rate to 0.0002231977.\n",
            "512/512 [==============================] - 9s 18ms/step - loss: 0.0804 - acc: 0.9602 - val_loss: 0.0270 - val_acc: 0.9937\n",
            "\n",
            "Epoch 00040: val_acc did not improve from 0.99597\n"
          ],
          "name": "stdout"
        },
        {
          "output_type": "execute_result",
          "data": {
            "text/plain": [
              "<keras.callbacks.History at 0x7f9d53adf860>"
            ]
          },
          "metadata": {
            "tags": []
          },
          "execution_count": 152
        }
      ]
    },
    {
      "cell_type": "code",
      "metadata": {
        "id": "WLxlW9ufyQiO",
        "colab_type": "code",
        "outputId": "add708cb-4591-4c9b-8198-db499596da28",
        "colab": {
          "base_uri": "https://localhost:8080/",
          "height": 35
        }
      },
      "source": [
        "\n",
        "score = model.evaluate(X_test, Y_test, verbose=0)\n",
        "print(score)"
      ],
      "execution_count": 153,
      "outputs": [
        {
          "output_type": "stream",
          "text": [
            "[0.024551696889661252, 0.9938]\n"
          ],
          "name": "stdout"
        }
      ]
    }
  ]
}