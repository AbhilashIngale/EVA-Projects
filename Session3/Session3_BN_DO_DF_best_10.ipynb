{
  "nbformat": 4,
  "nbformat_minor": 0,
  "metadata": {
    "colab": {
      "name": "Session3_BN_DO_DF_best_10.ipynb",
      "version": "0.3.2",
      "provenance": [],
      "collapsed_sections": [],
      "include_colab_link": true
    },
    "kernelspec": {
      "name": "python3",
      "display_name": "Python 3"
    },
    "accelerator": "GPU"
  },
  "cells": [
    {
      "cell_type": "markdown",
      "metadata": {
        "id": "view-in-github",
        "colab_type": "text"
      },
      "source": [
        "<a href=\"https://colab.research.google.com/github/AbhilashIngale/EVA-Projects/blob/master/Session3/Session3_BN_DO_DF_best_10.ipynb\" target=\"_parent\"><img src=\"https://colab.research.google.com/assets/colab-badge.svg\" alt=\"Open In Colab\"/></a>"
      ]
    },
    {
      "cell_type": "markdown",
      "metadata": {
        "id": "aNyZv-Ec52ot",
        "colab_type": "text"
      },
      "source": [
        "# Session 3 : Training MNIST Dataset with a custom Neural Network"
      ]
    },
    {
      "cell_type": "markdown",
      "metadata": {
        "id": "tLknLcKDm6Mc",
        "colab_type": "text"
      },
      "source": [
        "## About MNIST\n",
        "\n",
        "The introduction to the dataset at http://yann.lecun.com says it all -\n",
        "\n",
        "''The MNIST ( (Modified National Institute of Standards and Technology) database of handwritten digits, available from this page, has a training set of 60,000 examples, and a test set of 10,000 examples. It is a subset of a larger set available from NIST. The digits have been size-normalized and centered in a fixed-size image. It is a good database for people who want to try learning techniques and pattern recognition methods on real-world data while spending minimal efforts on preprocessing and formatting.''\n",
        "\n"
      ]
    },
    {
      "cell_type": "markdown",
      "metadata": {
        "id": "FHine6kImUaJ",
        "colab_type": "text"
      },
      "source": [
        "##Import Libraries and modules##"
      ]
    },
    {
      "cell_type": "code",
      "metadata": {
        "id": "3m3w1Cw49Zkt",
        "colab_type": "code",
        "colab": {}
      },
      "source": [
        "# https://keras.io/\n",
        "!pip install -q keras\n",
        "import keras"
      ],
      "execution_count": 0,
      "outputs": []
    },
    {
      "cell_type": "code",
      "metadata": {
        "id": "Eso6UHE080D4",
        "colab_type": "code",
        "colab": {}
      },
      "source": [
        "# Import all the dependancies and packages required\n",
        "import numpy as np\n",
        "\n",
        "from keras.models import Sequential\n",
        "from keras.layers import Dense, Dropout, Activation, Flatten, Add\n",
        "from keras.layers import Convolution2D, MaxPooling2D\n",
        "from keras.utils import np_utils\n",
        "\n",
        "# Import the MNIST dataset from keras\n",
        "from keras.datasets import mnist"
      ],
      "execution_count": 0,
      "outputs": []
    },
    {
      "cell_type": "markdown",
      "metadata": {
        "id": "zByEi95J86RD",
        "colab_type": "text"
      },
      "source": [
        "## Load pre-shuffled MNIST data into train and test sets"
      ]
    },
    {
      "cell_type": "code",
      "metadata": {
        "id": "7eRM0QWN83PV",
        "colab_type": "code",
        "colab": {}
      },
      "source": [
        "# Doing the train-test split on the MNIST dataset. Default split ratio (test to train ) is : \n",
        "(X_train, y_train), (X_test, y_test) = mnist.load_data()"
      ],
      "execution_count": 0,
      "outputs": []
    },
    {
      "cell_type": "code",
      "metadata": {
        "id": "4a4Be72j8-ZC",
        "colab_type": "code",
        "outputId": "f01922f3-ccad-475f-8ecf-4071f61ffce0",
        "colab": {
          "base_uri": "https://localhost:8080/",
          "height": 306
        }
      },
      "source": [
        "# Visualizing one of the images from the training set\n",
        "print (X_train.shape)\n",
        "from matplotlib import pyplot as plt\n",
        "%matplotlib inline\n",
        "plt.imshow(X_train[0])"
      ],
      "execution_count": 0,
      "outputs": [
        {
          "output_type": "stream",
          "text": [
            "(60000, 28, 28)\n"
          ],
          "name": "stdout"
        },
        {
          "output_type": "execute_result",
          "data": {
            "text/plain": [
              "<matplotlib.image.AxesImage at 0x7fb4ea1558d0>"
            ]
          },
          "metadata": {
            "tags": []
          },
          "execution_count": 151
        },
        {
          "output_type": "display_data",
          "data": {
            "image/png": "[encoded data removed]",
            "text/plain": [
              "<Figure size 432x288 with 1 Axes>"
            ]
          },
          "metadata": {
            "tags": []
          }
        }
      ]
    },
    {
      "cell_type": "code",
      "metadata": {
        "id": "dkmprriw9AnZ",
        "colab_type": "code",
        "colab": {}
      },
      "source": [
        "X_train = X_train.reshape(X_train.shape[0], 28, 28,1)\n",
        "X_test = X_test.reshape(X_test.shape[0], 28, 28,1)"
      ],
      "execution_count": 0,
      "outputs": []
    },
    {
      "cell_type": "code",
      "metadata": {
        "id": "X2m4YS4E9CRh",
        "colab_type": "code",
        "colab": {}
      },
      "source": [
        "# Converting the intensity range from 0-255 to 0-1 . This is done basically to avoid high computations and preserve system memory.\n",
        "X_train = X_train.astype('float32')\n",
        "X_test = X_test.astype('float32')\n",
        "X_train /= 255\n",
        "X_test /= 255"
      ],
      "execution_count": 0,
      "outputs": []
    },
    {
      "cell_type": "code",
      "metadata": {
        "id": "0Mn0vAYD9DvB",
        "colab_type": "code",
        "outputId": "1c41f22b-974b-4a4e-c5e8-233900ddeb6e",
        "colab": {
          "base_uri": "https://localhost:8080/",
          "height": 35
        }
      },
      "source": [
        "# Print the true labels in the training set.\n",
        "y_train[:10]"
      ],
      "execution_count": 0,
      "outputs": [
        {
          "output_type": "execute_result",
          "data": {
            "text/plain": [
              "array([5, 0, 4, 1, 9, 2, 1, 3, 1, 4], dtype=uint8)"
            ]
          },
          "metadata": {
            "tags": []
          },
          "execution_count": 154
        }
      ]
    },
    {
      "cell_type": "code",
      "metadata": {
        "id": "ZG8JiXR39FHC",
        "colab_type": "code",
        "colab": {}
      },
      "source": [
        "# Convert 1-dimensional class arrays to 10-dimensional class matrices\n",
        "Y_train = np_utils.to_categorical(y_train, 10)\n",
        "Y_test = np_utils.to_categorical(y_test, 10)"
      ],
      "execution_count": 0,
      "outputs": []
    },
    {
      "cell_type": "code",
      "metadata": {
        "id": "fYlFRvKS9HMB",
        "colab_type": "code",
        "outputId": "6dcf0469-80d4-4c58-e245-6846ed5e73a3",
        "colab": {
          "base_uri": "https://localhost:8080/",
          "height": 201
        }
      },
      "source": [
        "# Print the class matrix of the training set. Here, the true label is the one where '1' occurs for each training point.\n",
        "Y_train[:10]\n"
      ],
      "execution_count": 0,
      "outputs": [
        {
          "output_type": "execute_result",
          "data": {
            "text/plain": [
              "array([[0., 0., 0., 0., 0., 1., 0., 0., 0., 0.],\n",
              "       [1., 0., 0., 0., 0., 0., 0., 0., 0., 0.],\n",
              "       [0., 0., 0., 0., 1., 0., 0., 0., 0., 0.],\n",
              "       [0., 1., 0., 0., 0., 0., 0., 0., 0., 0.],\n",
              "       [0., 0., 0., 0., 0., 0., 0., 0., 0., 1.],\n",
              "       [0., 0., 1., 0., 0., 0., 0., 0., 0., 0.],\n",
              "       [0., 1., 0., 0., 0., 0., 0., 0., 0., 0.],\n",
              "       [0., 0., 0., 1., 0., 0., 0., 0., 0., 0.],\n",
              "       [0., 1., 0., 0., 0., 0., 0., 0., 0., 0.],\n",
              "       [0., 0., 0., 0., 1., 0., 0., 0., 0., 0.]], dtype=float32)"
            ]
          },
          "metadata": {
            "tags": []
          },
          "execution_count": 156
        }
      ]
    },
    {
      "cell_type": "markdown",
      "metadata": {
        "id": "GKyp5sR2XLsZ",
        "colab_type": "text"
      },
      "source": [
        "##Network Architecture##"
      ]
    },
    {
      "cell_type": "code",
      "metadata": {
        "id": "osKqT73Q9JJB",
        "colab_type": "code",
        "outputId": "a5c5f36e-cc79-4a7f-fe59-a5af85c7b2dc",
        "colab": {
          "base_uri": "https://localhost:8080/",
          "height": 239
        }
      },
      "source": [
        "# Importing Activation function and Batch Norm \n",
        "from keras.layers import Activation\n",
        "from keras.layers import BatchNormalization as BN \n",
        "\n",
        "############################ START #############################################\n",
        "\n",
        "model = Sequential()\n",
        " \n",
        "model.add(Convolution2D(16, 3, 3,activation='relu', input_shape=(28,28,1)))     \n",
        "model.add(BN())\n",
        "\n",
        "model.add(Convolution2D(24, 3, 3,activation='relu'))                            \n",
        "model.add(BN())\n",
        "\n",
        "\n",
        "model.add(Convolution2D(12, 1, 1, activation='relu'))                           \n",
        "model.add(BN())\n",
        "model.add(MaxPooling2D(pool_size=(2, 2)))                                      \n",
        "model.add(Dropout(0.40))\n",
        "\n",
        "model.add(Convolution2D(12, 3, 3, activation='relu'))                           \n",
        "model.add(BN())\n",
        "\n",
        "model.add(Convolution2D(24, 3, 3, activation='relu'))                           \n",
        "model.add(BN())\n",
        "\n",
        "model.add(Convolution2D(32, 3, 3, activation='relu'))                          \n",
        "model.add(BN())\n",
        "\n",
        "model.add(Convolution2D(24, 1, 1, activation='relu'))                                   \n",
        "model.add(BN())\n",
        "model.add(MaxPooling2D(pool_size=(2, 2)))                                      \n",
        "\n",
        "model.add(BN())\n",
        "model.add(Dropout(0.40))                                                        \n",
        "model.add(Convolution2D(10, 3, 3, activation= None ))                            \n",
        "\n",
        "model.add(Flatten())\n",
        "model.add(Activation('softmax'))\n",
        "\n",
        "############################## END #############################################"
      ],
      "execution_count": 0,
      "outputs": [
        {
          "output_type": "stream",
          "text": [
            "/usr/local/lib/python3.6/dist-packages/ipykernel_launcher.py:6: UserWarning: Update your `Conv2D` call to the Keras 2 API: `Conv2D(16, (3, 3), activation=\"relu\", input_shape=(28, 28, 1...)`\n",
            "  \n",
            "/usr/local/lib/python3.6/dist-packages/ipykernel_launcher.py:9: UserWarning: Update your `Conv2D` call to the Keras 2 API: `Conv2D(24, (3, 3), activation=\"relu\")`\n",
            "  if __name__ == '__main__':\n",
            "/usr/local/lib/python3.6/dist-packages/ipykernel_launcher.py:13: UserWarning: Update your `Conv2D` call to the Keras 2 API: `Conv2D(12, (1, 1), activation=\"relu\")`\n",
            "  del sys.path[0]\n",
            "/usr/local/lib/python3.6/dist-packages/ipykernel_launcher.py:19: UserWarning: Update your `Conv2D` call to the Keras 2 API: `Conv2D(12, (3, 3), activation=\"relu\")`\n",
            "/usr/local/lib/python3.6/dist-packages/ipykernel_launcher.py:22: UserWarning: Update your `Conv2D` call to the Keras 2 API: `Conv2D(24, (3, 3), activation=\"relu\")`\n",
            "/usr/local/lib/python3.6/dist-packages/ipykernel_launcher.py:25: UserWarning: Update your `Conv2D` call to the Keras 2 API: `Conv2D(32, (3, 3), activation=\"relu\")`\n",
            "/usr/local/lib/python3.6/dist-packages/ipykernel_launcher.py:28: UserWarning: Update your `Conv2D` call to the Keras 2 API: `Conv2D(24, (1, 1), activation=\"relu\")`\n",
            "/usr/local/lib/python3.6/dist-packages/ipykernel_launcher.py:34: UserWarning: Update your `Conv2D` call to the Keras 2 API: `Conv2D(10, (3, 3), activation=None)`\n"
          ],
          "name": "stderr"
        }
      ]
    },
    {
      "cell_type": "markdown",
      "metadata": {
        "id": "ZA7QwH5ejXUZ",
        "colab_type": "text"
      },
      "source": [
        "##Why the above architecture ???##\n",
        "Here, the objective is to maximize the validation accuracy with only simple tools like : Batch Normalization , dropouts (which we not use in future networks) and 3x3 and 1x1 kernels.\n",
        "\n",
        "Let us look at them one by one : - \n",
        "\n",
        "### Batch Normalization ### \n",
        "The idea is to normalise the inputs of each layer in such a way that they have a mean output activation of zero and standard deviation of one. This is analogous to how the inputs to networks are standardised.\n",
        "\n",
        "How does this help? We know that normalising the inputs to a network helps it learn. But a network is just a series of layers, where the output of one layer becomes the input to the next. That means we can think of any layer in a neural network as the first layer of a smaller subsequent network.\n",
        "\n",
        "Thought of as a series of neural networks feeding into each other, we normalising the output of one layer before applying the activation function, and then feed it into the following layer (sub-network).\n",
        "\n",
        "(**source** : https://medium.com/deeper-learning)\n",
        "\n",
        "### Dropout ### \n",
        "![alt text](https://static.commonlounge.com/fp/600w/aOLPWvdc8ukd8GTFUhff2RtcA1520492906_kc)\n",
        "\n",
        "In Layman's term , Droput implies this - \n",
        "\n",
        "\" If you are running a startup which requires a Mech engineer , an Electronics Engineer and CS Engineer and if someday the Electronics Engineer does not show up, then the other two guys have to work extra to compensate for his loss or **LEARN** some new skills apart from their own. This ensures that the startup keeps running\"  OR  in other words - \n",
        "\n",
        "Dropouts ensure that the model does not overfit to the training data and is able to combine and extract complex features from the model. Also, since the neurons/kernels that would be droppped are always random, we can be sure of not loosing on the accuracy.\n",
        "\n",
        "**Dropout always increases the validaton accuracy but the training accuracy might go down.**\n",
        "\n",
        "\n",
        "### Summary ###\n",
        "\n",
        "Thus , Dropouts and Batch Norm are the two factors that could contribute positively to the model architecture. The question of the optimal dropout percentage is a matter of practical experimentation and trail rather than theory. It varies greatly according to the dataset. "
      ]
    },
    {
      "cell_type": "code",
      "metadata": {
        "id": "ciRt6E5i8fY1",
        "colab_type": "code",
        "outputId": "0064ecfc-0c7a-4829-d816-57ed2ea7ecb5",
        "colab": {
          "base_uri": "https://localhost:8080/",
          "height": 954
        }
      },
      "source": [
        "# Shows the image shape after each convolution and the parameter count. Also, shows the trainable and non-trainable parameters. \n",
        "model.summary()"
      ],
      "execution_count": 0,
      "outputs": [
        {
          "output_type": "stream",
          "text": [
            "_________________________________________________________________\n",
            "Layer (type)                 Output Shape              Param #   \n",
            "=================================================================\n",
            "conv2d_65 (Conv2D)           (None, 26, 26, 16)        160       \n",
            "_________________________________________________________________\n",
            "batch_normalization_61 (Batc (None, 26, 26, 16)        64        \n",
            "_________________________________________________________________\n",
            "conv2d_66 (Conv2D)           (None, 24, 24, 24)        3480      \n",
            "_________________________________________________________________\n",
            "batch_normalization_62 (Batc (None, 24, 24, 24)        96        \n",
            "_________________________________________________________________\n",
            "conv2d_67 (Conv2D)           (None, 24, 24, 12)        300       \n",
            "_________________________________________________________________\n",
            "batch_normalization_63 (Batc (None, 24, 24, 12)        48        \n",
            "_________________________________________________________________\n",
            "max_pooling2d_17 (MaxPooling (None, 12, 12, 12)        0         \n",
            "_________________________________________________________________\n",
            "dropout_33 (Dropout)         (None, 12, 12, 12)        0         \n",
            "_________________________________________________________________\n",
            "conv2d_68 (Conv2D)           (None, 10, 10, 12)        1308      \n",
            "_________________________________________________________________\n",
            "batch_normalization_64 (Batc (None, 10, 10, 12)        48        \n",
            "_________________________________________________________________\n",
            "conv2d_69 (Conv2D)           (None, 8, 8, 24)          2616      \n",
            "_________________________________________________________________\n",
            "batch_normalization_65 (Batc (None, 8, 8, 24)          96        \n",
            "_________________________________________________________________\n",
            "conv2d_70 (Conv2D)           (None, 6, 6, 32)          6944      \n",
            "_________________________________________________________________\n",
            "batch_normalization_66 (Batc (None, 6, 6, 32)          128       \n",
            "_________________________________________________________________\n",
            "conv2d_71 (Conv2D)           (None, 6, 6, 24)          792       \n",
            "_________________________________________________________________\n",
            "batch_normalization_67 (Batc (None, 6, 6, 24)          96        \n",
            "_________________________________________________________________\n",
            "max_pooling2d_18 (MaxPooling (None, 3, 3, 24)          0         \n",
            "_________________________________________________________________\n",
            "batch_normalization_68 (Batc (None, 3, 3, 24)          96        \n",
            "_________________________________________________________________\n",
            "dropout_34 (Dropout)         (None, 3, 3, 24)          0         \n",
            "_________________________________________________________________\n",
            "conv2d_72 (Conv2D)           (None, 1, 1, 10)          2170      \n",
            "_________________________________________________________________\n",
            "flatten_9 (Flatten)          (None, 10)                0         \n",
            "_________________________________________________________________\n",
            "activation_9 (Activation)    (None, 10)                0         \n",
            "=================================================================\n",
            "Total params: 18,442\n",
            "Trainable params: 18,106\n",
            "Non-trainable params: 336\n",
            "_________________________________________________________________\n"
          ],
          "name": "stdout"
        }
      ]
    },
    {
      "cell_type": "code",
      "metadata": {
        "id": "Zp6SuGrL9M3h",
        "colab_type": "code",
        "colab": {}
      },
      "source": [
        "# Compile the model: Specify loss function , optimizer e.g. SGD , adam etc.(in optimizer set learning rate which is a hyper-parameter)\n",
        "model.compile(loss='categorical_crossentropy',\n",
        "             optimizer='adam',\n",
        "             metrics=['accuracy'])"
      ],
      "execution_count": 0,
      "outputs": []
    },
    {
      "cell_type": "code",
      "metadata": {
        "id": "4xWoKhPY9Of5",
        "colab_type": "code",
        "outputId": "1e8f48f1-b8d9-4b54-afb2-43738b2cd097",
        "colab": {
          "base_uri": "https://localhost:8080/",
          "height": 439
        }
      },
      "source": [
        "# FIT 1 : The first fit ensures that local minimas are avoided and the model moves towardsglobal minima.\n",
        "model.fit(X_train, Y_train, batch_size=20, nb_epoch=10, verbose=1)"
      ],
      "execution_count": 0,
      "outputs": [
        {
          "output_type": "stream",
          "text": [
            "/usr/local/lib/python3.6/dist-packages/ipykernel_launcher.py:1: UserWarning: The `nb_epoch` argument in `fit` has been renamed `epochs`.\n",
            "  \"\"\"Entry point for launching an IPython kernel.\n"
          ],
          "name": "stderr"
        },
        {
          "output_type": "stream",
          "text": [
            "Epoch 1/10\n",
            "60000/60000 [==============================] - 64s 1ms/step - loss: 0.2545 - acc: 0.9198\n",
            "Epoch 2/10\n",
            "60000/60000 [==============================] - 60s 1ms/step - loss: 0.0869 - acc: 0.9731\n",
            "Epoch 3/10\n",
            "60000/60000 [==============================] - 60s 1ms/step - loss: 0.0720 - acc: 0.9780\n",
            "Epoch 4/10\n",
            "60000/60000 [==============================] - 60s 993us/step - loss: 0.0592 - acc: 0.9819\n",
            "Epoch 5/10\n",
            "60000/60000 [==============================] - 60s 1ms/step - loss: 0.0548 - acc: 0.9834\n",
            "Epoch 6/10\n",
            "60000/60000 [==============================] - 59s 991us/step - loss: 0.0501 - acc: 0.9841\n",
            "Epoch 7/10\n",
            "60000/60000 [==============================] - 60s 1ms/step - loss: 0.0459 - acc: 0.9860\n",
            "Epoch 8/10\n",
            "60000/60000 [==============================] - 60s 1ms/step - loss: 0.0448 - acc: 0.9856\n",
            "Epoch 9/10\n",
            "60000/60000 [==============================] - 60s 1ms/step - loss: 0.0417 - acc: 0.9869\n",
            "Epoch 10/10\n",
            "60000/60000 [==============================] - 60s 994us/step - loss: 0.0410 - acc: 0.9874\n"
          ],
          "name": "stdout"
        },
        {
          "output_type": "execute_result",
          "data": {
            "text/plain": [
              "<keras.callbacks.History at 0x7fb4e99797f0>"
            ]
          },
          "metadata": {
            "tags": []
          },
          "execution_count": 160
        }
      ]
    },
    {
      "cell_type": "code",
      "metadata": {
        "id": "OD3rKhmOI4Qv",
        "colab_type": "code",
        "outputId": "1303f4b9-220e-4599-f3fb-c1995d45ed03",
        "colab": {
          "base_uri": "https://localhost:8080/",
          "height": 459
        }
      },
      "source": [
        "# FIT 2 : Once the model is trained on smaller batch size and has avoided local minima , we train it on higher batch size \n",
        "#         to increase the accuracy on traning and validation sets.\n",
        "model.fit(X_train, Y_train, batch_size=200, nb_epoch=10, verbose=1)"
      ],
      "execution_count": 0,
      "outputs": [
        {
          "output_type": "stream",
          "text": [
            "Epoch 1/10\n",
            " 1000/60000 [..............................] - ETA: 10s - loss: 0.0326 - acc: 0.9890"
          ],
          "name": "stdout"
        },
        {
          "output_type": "stream",
          "text": [
            "/usr/local/lib/python3.6/dist-packages/ipykernel_launcher.py:1: UserWarning: The `nb_epoch` argument in `fit` has been renamed `epochs`.\n",
            "  \"\"\"Entry point for launching an IPython kernel.\n"
          ],
          "name": "stderr"
        },
        {
          "output_type": "stream",
          "text": [
            "60000/60000 [==============================] - 8s 137us/step - loss: 0.0265 - acc: 0.9918\n",
            "Epoch 2/10\n",
            "60000/60000 [==============================] - 8s 135us/step - loss: 0.0253 - acc: 0.9921\n",
            "Epoch 3/10\n",
            "60000/60000 [==============================] - 8s 136us/step - loss: 0.0230 - acc: 0.9929\n",
            "Epoch 4/10\n",
            "60000/60000 [==============================] - 8s 134us/step - loss: 0.0225 - acc: 0.9931\n",
            "Epoch 5/10\n",
            "60000/60000 [==============================] - 8s 135us/step - loss: 0.0221 - acc: 0.9931\n",
            "Epoch 6/10\n",
            "60000/60000 [==============================] - 8s 134us/step - loss: 0.0215 - acc: 0.9931\n",
            "Epoch 7/10\n",
            "60000/60000 [==============================] - 8s 135us/step - loss: 0.0208 - acc: 0.9933\n",
            "Epoch 8/10\n",
            "60000/60000 [==============================] - 8s 136us/step - loss: 0.0204 - acc: 0.9934\n",
            "Epoch 9/10\n",
            "60000/60000 [==============================] - 8s 135us/step - loss: 0.0210 - acc: 0.9936\n",
            "Epoch 10/10\n",
            "60000/60000 [==============================] - 8s 135us/step - loss: 0.0202 - acc: 0.9936\n"
          ],
          "name": "stdout"
        },
        {
          "output_type": "execute_result",
          "data": {
            "text/plain": [
              "<keras.callbacks.History at 0x7fb4ea169470>"
            ]
          },
          "metadata": {
            "tags": []
          },
          "execution_count": 161
        }
      ]
    },
    {
      "cell_type": "code",
      "metadata": {
        "id": "AtsH-lLk-eLb",
        "colab_type": "code",
        "colab": {}
      },
      "source": [
        "# Evaluates the metrics i.e. Loss and Accuracy on the test set\n",
        "score = model.evaluate(X_test, Y_test, verbose=0)"
      ],
      "execution_count": 0,
      "outputs": []
    },
    {
      "cell_type": "code",
      "metadata": {
        "id": "mkX8JMv79q9r",
        "colab_type": "code",
        "outputId": "217dabcf-5c96-445d-b7f5-5c072946cf1a",
        "colab": {
          "base_uri": "https://localhost:8080/",
          "height": 35
        }
      },
      "source": [
        "# Printing the metrics evaluated above\n",
        "print(score)"
      ],
      "execution_count": 0,
      "outputs": [
        {
          "output_type": "stream",
          "text": [
            "[0.01631879683381121, 0.9952]\n"
          ],
          "name": "stdout"
        }
      ]
    },
    {
      "cell_type": "code",
      "metadata": {
        "id": "OCWoJkwE9suh",
        "colab_type": "code",
        "colab": {}
      },
      "source": [
        "# Making predictions on the test set and storing the result y_pred\n",
        "y_pred = model.predict(X_test)"
      ],
      "execution_count": 0,
      "outputs": []
    },
    {
      "cell_type": "code",
      "metadata": {
        "id": "Ym7iCFBm9uBs",
        "colab_type": "code",
        "outputId": "a757b402-cfaf-4e9c-90d7-60118feeb2b5",
        "colab": {
          "base_uri": "https://localhost:8080/",
          "height": 366
        }
      },
      "source": [
        "# print the predicted class matrix and true test labels.\n",
        "print(y_pred[:9])\n",
        "print(y_test[:9])"
      ],
      "execution_count": 0,
      "outputs": [
        {
          "output_type": "stream",
          "text": [
            "[[1.3178778e-09 7.4397319e-09 1.2129084e-08 3.0000255e-08 7.5079427e-09\n",
            "  5.0223098e-10 1.2860558e-13 9.9999964e-01 1.7623912e-10 3.3180677e-07]\n",
            " [1.0946612e-06 4.3224620e-07 9.9999774e-01 1.5223316e-09 9.1932001e-10\n",
            "  1.3086586e-11 6.5913571e-07 1.7668350e-09 3.8550096e-09 6.8134837e-10]\n",
            " [2.5179867e-07 9.9998510e-01 2.9907193e-07 8.0760669e-09 3.5880848e-06\n",
            "  8.0793404e-07 3.3477913e-06 5.9870486e-06 1.7243251e-07 3.7069836e-07]\n",
            " [9.9996948e-01 2.3973615e-11 4.9944583e-07 9.3599848e-09 2.4469196e-09\n",
            "  1.7626367e-07 2.8916493e-05 9.9839081e-10 1.9338499e-07 7.8645911e-07]\n",
            " [3.4482271e-11 1.3303659e-08 9.1029587e-11 1.6079695e-11 9.9999845e-01\n",
            "  5.2060195e-10 8.7821134e-10 7.1360944e-09 3.7412651e-08 1.4819424e-06]\n",
            " [2.5167901e-07 9.9996567e-01 3.8647150e-07 1.0266250e-09 9.0217909e-06\n",
            "  4.5527155e-08 1.4420281e-06 2.2072541e-05 5.1123163e-08 1.1535059e-06]\n",
            " [1.3385083e-12 1.0797426e-06 3.3771670e-09 3.6332413e-12 9.9999690e-01\n",
            "  4.1594625e-10 1.7217909e-10 2.8564745e-07 3.9604227e-08 1.7605792e-06]\n",
            " [1.7695584e-07 7.2898573e-08 5.6714584e-06 8.5148946e-07 3.9594431e-04\n",
            "  6.9579102e-09 3.3077441e-10 1.3272713e-06 1.0115290e-05 9.9958581e-01]\n",
            " [7.4467113e-07 6.6772665e-10 1.3769474e-09 6.4257229e-08 3.6250134e-09\n",
            "  8.6784106e-01 1.3201463e-01 1.0319003e-08 1.4338685e-04 9.6285973e-08]]\n",
            "[7 2 1 0 4 1 4 9 5]\n"
          ],
          "name": "stdout"
        }
      ]
    },
    {
      "cell_type": "code",
      "metadata": {
        "id": "CT--y98_dr2T",
        "colab_type": "code",
        "colab": {}
      },
      "source": [
        "layer_dict = dict([(layer.name, layer) for layer in model.layers])"
      ],
      "execution_count": 0,
      "outputs": []
    },
    {
      "cell_type": "code",
      "metadata": {
        "id": "2GY4Upv4dsUR",
        "colab_type": "code",
        "colab": {}
      },
      "source": [
        "################# CODE TO VISUALIZE FEATURE MAPS ###############################\n",
        "import numpy as np\n",
        "from matplotlib import pyplot as plt\n",
        "from keras import backend as K\n",
        "%matplotlib inline\n",
        "# util function to convert a tensor into a valid image\n",
        "def deprocess_image(x):\n",
        "    # normalize tensor: center on 0., ensure std is 0.1\n",
        "    x -= x.mean()\n",
        "    x /= (x.std() + 1e-5)\n",
        "    x *= 0.1\n",
        "\n",
        "    # clip to [0, 1]\n",
        "    x += 0.5\n",
        "    x = np.clip(x, 0, 1)\n",
        "\n",
        "    # convert to RGB array\n",
        "    x *= 255\n",
        "    #x = x.transpose((1, 2, 0))\n",
        "    x = np.clip(x, 0, 255).astype('uint8')\n",
        "    return x\n",
        "\n",
        "def vis_img_in_filter(img = np.array(X_train[2]).reshape((1, 28, 28, 1)).astype(np.float64), \n",
        "                      layer_name = 'conv2d_65'):\n",
        "    layer_output = layer_dict[layer_name].output\n",
        "    img_ascs = list()\n",
        "    for filter_index in range(layer_output.shape[3]):\n",
        "        # build a loss function that maximizes the activation\n",
        "        # of the nth filter of the layer considered\n",
        "        loss = K.mean(layer_output[:, :, :, filter_index])\n",
        "\n",
        "        # compute the gradient of the input picture wrt this loss\n",
        "        grads = K.gradients(loss, model.input)[0]\n",
        "\n",
        "        # normalization trick: we normalize the gradient\n",
        "        grads /= (K.sqrt(K.mean(K.square(grads))) + 1e-5)\n",
        "\n",
        "        # this function returns the loss and grads given the input picture\n",
        "        iterate = K.function([model.input], [loss, grads])\n",
        "\n",
        "        # step size for gradient ascent\n",
        "        step = 5.\n",
        "\n",
        "        img_asc = np.array(img)\n",
        "        # run gradient ascent for 20 steps\n",
        "        for i in range(20):\n",
        "            loss_value, grads_value = iterate([img_asc])\n",
        "            img_asc += grads_value * step\n",
        "\n",
        "        img_asc = img_asc[0]\n",
        "        img_ascs.append(deprocess_image(img_asc).reshape((28, 28)))\n",
        "        \n",
        "    if layer_output.shape[3] >= 35:\n",
        "        plot_x, plot_y = 6, 6\n",
        "    elif layer_output.shape[3] >= 23:\n",
        "        plot_x, plot_y = 4, 6\n",
        "    elif layer_output.shape[3] >= 11:\n",
        "        plot_x, plot_y = 2, 6\n",
        "    else:\n",
        "        plot_x, plot_y = 1, 2\n",
        "    fig, ax = plt.subplots(plot_x, plot_y, figsize = (12, 12))\n",
        "    ax[0, 0].imshow(img.reshape((28, 28)), cmap = 'gray')\n",
        "    ax[0, 0].set_title('Input image')\n",
        "    fig.suptitle('Input image and %s filters' % (layer_name,))\n",
        "    fig.tight_layout(pad = 0.3, rect = [0, 0, 0.9, 0.9])\n",
        "    for (x, y) in [(i, j) for i in range(plot_x) for j in range(plot_y)]:\n",
        "        if x == 0 and y == 0:\n",
        "            continue\n",
        "        ax[x, y].imshow(img_ascs[x * plot_y + y - 1], cmap = 'gray')\n",
        "        ax[x, y].set_title('filter %d' % (x * plot_y + y - 1))\n",
        "\n",
        "vis_img_in_filter()"
      ],
      "execution_count": 0,
      "outputs": []
    }
  ]
}