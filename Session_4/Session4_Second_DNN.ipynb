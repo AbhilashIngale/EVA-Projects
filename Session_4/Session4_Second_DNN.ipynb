{
  "nbformat": 4,
  "nbformat_minor": 0,
  "metadata": {
    "colab": {
      "name": "Session4_Second DNN.ipynb",
      "version": "0.3.2",
      "provenance": [],
      "collapsed_sections": [],
      "include_colab_link": true
    },
    "kernelspec": {
      "name": "python3",
      "display_name": "Python 3"
    },
    "accelerator": "GPU"
  },
  "cells": [
    {
      "cell_type": "markdown",
      "metadata": {
        "id": "view-in-github",
        "colab_type": "text"
      },
      "source": [
        "<a href=\"https://colab.research.google.com/github/AbhilashIngale/EVA-Projects/blob/master/Session_4/Session4_Second_DNN.ipynb\" target=\"_parent\"><img src=\"https://colab.research.google.com/assets/colab-badge.svg\" alt=\"Open In Colab\"/></a>"
      ]
    },
    {
      "cell_type": "markdown",
      "metadata": {
        "id": "aNyZv-Ec52ot",
        "colab_type": "text"
      },
      "source": [
        "# Session 4 : Train MNIST  with a custom Neural Network achieving 99.4% accuracy ( keeping parameter count below 15k )"
      ]
    },
    {
      "cell_type": "markdown",
      "metadata": {
        "id": "tLknLcKDm6Mc",
        "colab_type": "text"
      },
      "source": [
        "# Iteration 2 \n",
        "## AIM : In this iteration, the aim is to introduce Batch Normalization before each of the convolution operation and train the model form 30 epochs on same batch size (20). We are increasing the number of epochs, to see if it could increase the test accuracy. \n",
        "\n"
      ]
    },
    {
      "cell_type": "markdown",
      "metadata": {
        "id": "FHine6kImUaJ",
        "colab_type": "text"
      },
      "source": [
        "##Import Libraries and modules##"
      ]
    },
    {
      "cell_type": "code",
      "metadata": {
        "id": "3m3w1Cw49Zkt",
        "colab_type": "code",
        "outputId": "a269b6cf-8f89-4b65-aa64-8a15a21d86f0",
        "colab": {
          "base_uri": "https://localhost:8080/",
          "height": 35
        }
      },
      "source": [
        "# https://keras.io/\n",
        "!pip install -q keras\n",
        "import keras"
      ],
      "execution_count": 0,
      "outputs": [
        {
          "output_type": "stream",
          "text": [
            "Using TensorFlow backend.\n"
          ],
          "name": "stderr"
        }
      ]
    },
    {
      "cell_type": "code",
      "metadata": {
        "id": "Eso6UHE080D4",
        "colab_type": "code",
        "colab": {}
      },
      "source": [
        "# Import all the dependancies and packages required\n",
        "import numpy as np\n",
        "\n",
        "from keras.models import Sequential\n",
        "from keras.layers import Dense, Dropout, Activation, Flatten, Add\n",
        "from keras.layers import Convolution2D, MaxPooling2D  \n",
        "from keras.utils import np_utils\n",
        "\n",
        "# Import the MNIST dataset from keras\n",
        "from keras.datasets import mnist"
      ],
      "execution_count": 0,
      "outputs": []
    },
    {
      "cell_type": "markdown",
      "metadata": {
        "id": "zByEi95J86RD",
        "colab_type": "text"
      },
      "source": [
        "## Load pre-shuffled MNIST data into train and test sets"
      ]
    },
    {
      "cell_type": "code",
      "metadata": {
        "id": "7eRM0QWN83PV",
        "colab_type": "code",
        "colab": {}
      },
      "source": [
        "# Doing the train-test split on the MNIST dataset. Default split ratio (test to train ) is : 1:6\n",
        "(X_train, y_train), (X_test, y_test) = mnist.load_data()"
      ],
      "execution_count": 0,
      "outputs": []
    },
    {
      "cell_type": "code",
      "metadata": {
        "id": "4a4Be72j8-ZC",
        "colab_type": "code",
        "outputId": "71292467-4197-4da9-e2a4-90f39239a891",
        "colab": {
          "base_uri": "https://localhost:8080/",
          "height": 306
        }
      },
      "source": [
        "# Visualizing one of the images from the training set\n",
        "print (X_train.shape)\n",
        "from matplotlib import pyplot as plt\n",
        "%matplotlib inline\n",
        "plt.imshow(X_train[0])"
      ],
      "execution_count": 0,
      "outputs": [
        {
          "output_type": "stream",
          "text": [
            "(60000, 28, 28)\n"
          ],
          "name": "stdout"
        },
        {
          "output_type": "execute_result",
          "data": {
            "text/plain": [
              "<matplotlib.image.AxesImage at 0x7f40a511f160>"
            ]
          },
          "metadata": {
            "tags": []
          },
          "execution_count": 4
        },
        {
          "output_type": "display_data",
          "data": {
            "image/png": "[encoded data removed]",
            "text/plain": [
              "<Figure size 432x288 with 1 Axes>"
            ]
          },
          "metadata": {
            "tags": []
          }
        }
      ]
    },
    {
      "cell_type": "code",
      "metadata": {
        "id": "dkmprriw9AnZ",
        "colab_type": "code",
        "colab": {}
      },
      "source": [
        "X_train = X_train.reshape(X_train.shape[0], 28, 28,1)\n",
        "X_test = X_test.reshape(X_test.shape[0], 28, 28,1)"
      ],
      "execution_count": 0,
      "outputs": []
    },
    {
      "cell_type": "code",
      "metadata": {
        "id": "X2m4YS4E9CRh",
        "colab_type": "code",
        "colab": {}
      },
      "source": [
        "# Converting the intensity range from 0-255 to 0-1 . This is done basically to avoid high computations and preserve system memory.\n",
        "X_train = X_train.astype('float32')\n",
        "X_test = X_test.astype('float32')\n",
        "X_train /= 255\n",
        "X_test /= 255"
      ],
      "execution_count": 0,
      "outputs": []
    },
    {
      "cell_type": "code",
      "metadata": {
        "id": "0Mn0vAYD9DvB",
        "colab_type": "code",
        "outputId": "750353b1-73a3-4435-c28e-484f89a5b90e",
        "colab": {
          "base_uri": "https://localhost:8080/",
          "height": 35
        }
      },
      "source": [
        "# Print the true labels in the training set.\n",
        "y_train[:10]"
      ],
      "execution_count": 0,
      "outputs": [
        {
          "output_type": "execute_result",
          "data": {
            "text/plain": [
              "array([5, 0, 4, 1, 9, 2, 1, 3, 1, 4], dtype=uint8)"
            ]
          },
          "metadata": {
            "tags": []
          },
          "execution_count": 7
        }
      ]
    },
    {
      "cell_type": "code",
      "metadata": {
        "id": "ZG8JiXR39FHC",
        "colab_type": "code",
        "colab": {}
      },
      "source": [
        "# Convert 1-dimensional class arrays to 10-dimensional class matrices\n",
        "Y_train = np_utils.to_categorical(y_train, 10)\n",
        "Y_test = np_utils.to_categorical(y_test, 10)"
      ],
      "execution_count": 0,
      "outputs": []
    },
    {
      "cell_type": "code",
      "metadata": {
        "id": "fYlFRvKS9HMB",
        "colab_type": "code",
        "outputId": "dbe36aea-a349-4c72-da2c-c48462a60297",
        "colab": {
          "base_uri": "https://localhost:8080/",
          "height": 201
        }
      },
      "source": [
        "# Print the class matrix of the training set. Here, the true label is the one where '1' occurs for each training point.\n",
        "Y_train[:10]\n"
      ],
      "execution_count": 0,
      "outputs": [
        {
          "output_type": "execute_result",
          "data": {
            "text/plain": [
              "array([[0., 0., 0., 0., 0., 1., 0., 0., 0., 0.],\n",
              "       [1., 0., 0., 0., 0., 0., 0., 0., 0., 0.],\n",
              "       [0., 0., 0., 0., 1., 0., 0., 0., 0., 0.],\n",
              "       [0., 1., 0., 0., 0., 0., 0., 0., 0., 0.],\n",
              "       [0., 0., 0., 0., 0., 0., 0., 0., 0., 1.],\n",
              "       [0., 0., 1., 0., 0., 0., 0., 0., 0., 0.],\n",
              "       [0., 1., 0., 0., 0., 0., 0., 0., 0., 0.],\n",
              "       [0., 0., 0., 1., 0., 0., 0., 0., 0., 0.],\n",
              "       [0., 1., 0., 0., 0., 0., 0., 0., 0., 0.],\n",
              "       [0., 0., 0., 0., 1., 0., 0., 0., 0., 0.]], dtype=float32)"
            ]
          },
          "metadata": {
            "tags": []
          },
          "execution_count": 9
        }
      ]
    },
    {
      "cell_type": "markdown",
      "metadata": {
        "id": "GKyp5sR2XLsZ",
        "colab_type": "text"
      },
      "source": [
        "## Network Architecture : Iteration 2 - Introducing Batch Normalization and playing with number of epochs"
      ]
    },
    {
      "cell_type": "code",
      "metadata": {
        "id": "osKqT73Q9JJB",
        "colab_type": "code",
        "outputId": "552afdb0-4931-476a-da6b-2c210841b79a",
        "colab": {
          "base_uri": "https://localhost:8080/",
          "height": 313
        }
      },
      "source": [
        "# Importing Activation function and Batch Norm \n",
        "from keras.layers import Activation\n",
        "from keras.layers import BatchNormalization as BN\n",
        "\n",
        "############################ START #############################################\n",
        "\n",
        "model = Sequential()\n",
        " \n",
        "model.add(Convolution2D(12, 3, 3,activation='relu', input_shape=(28,28,1))) #26  \n",
        "model.add(BN())\n",
        "model.add(Convolution2D(24, 3, 3,activation='relu')) #24                            \n",
        "model.add(BN())\n",
        "\n",
        "model.add(Convolution2D(12, 1, 1, activation='relu')) #24                            \n",
        "model.add(MaxPooling2D(pool_size=(2, 2))) #12                                      \n",
        "\n",
        "model.add(Convolution2D(12, 3, 3, activation='relu')) # 10                           \n",
        "model.add(BN())\n",
        "model.add(Convolution2D(18, 3, 3, activation='relu')) # 8                          \n",
        "model.add(BN())\n",
        "model.add(Convolution2D(24, 3, 3, activation='relu')) # 6                         \n",
        "model.add(BN())\n",
        "model.add(Convolution2D(10, 1, 1, activation='relu')) # 6                                  \n",
        "model.add(MaxPooling2D(pool_size=(2, 2)))  # 3                                    \n",
        "                                                       \n",
        "model.add(Convolution2D(10, 3, 3, activation= None )) #1                            \n",
        "model.add(BN())\n",
        "\n",
        "model.add(Flatten())\n",
        "model.add(Activation('softmax'))\n",
        "\n",
        "############################## END #############################################"
      ],
      "execution_count": 0,
      "outputs": [
        {
          "output_type": "stream",
          "text": [
            "WARNING:tensorflow:From /usr/local/lib/python3.6/dist-packages/tensorflow/python/framework/op_def_library.py:263: colocate_with (from tensorflow.python.framework.ops) is deprecated and will be removed in a future version.\n",
            "Instructions for updating:\n",
            "Colocations handled automatically by placer.\n"
          ],
          "name": "stdout"
        },
        {
          "output_type": "stream",
          "text": [
            "/usr/local/lib/python3.6/dist-packages/ipykernel_launcher.py:7: UserWarning: Update your `Conv2D` call to the Keras 2 API: `Conv2D(12, (3, 3), activation=\"relu\", input_shape=(28, 28, 1...)`\n",
            "  import sys\n",
            "/usr/local/lib/python3.6/dist-packages/ipykernel_launcher.py:9: UserWarning: Update your `Conv2D` call to the Keras 2 API: `Conv2D(24, (3, 3), activation=\"relu\")`\n",
            "  if __name__ == '__main__':\n",
            "/usr/local/lib/python3.6/dist-packages/ipykernel_launcher.py:12: UserWarning: Update your `Conv2D` call to the Keras 2 API: `Conv2D(12, (1, 1), activation=\"relu\")`\n",
            "  if sys.path[0] == '':\n",
            "/usr/local/lib/python3.6/dist-packages/ipykernel_launcher.py:15: UserWarning: Update your `Conv2D` call to the Keras 2 API: `Conv2D(12, (3, 3), activation=\"relu\")`\n",
            "  from ipykernel import kernelapp as app\n",
            "/usr/local/lib/python3.6/dist-packages/ipykernel_launcher.py:17: UserWarning: Update your `Conv2D` call to the Keras 2 API: `Conv2D(18, (3, 3), activation=\"relu\")`\n",
            "/usr/local/lib/python3.6/dist-packages/ipykernel_launcher.py:19: UserWarning: Update your `Conv2D` call to the Keras 2 API: `Conv2D(24, (3, 3), activation=\"relu\")`\n",
            "/usr/local/lib/python3.6/dist-packages/ipykernel_launcher.py:21: UserWarning: Update your `Conv2D` call to the Keras 2 API: `Conv2D(10, (1, 1), activation=\"relu\")`\n",
            "/usr/local/lib/python3.6/dist-packages/ipykernel_launcher.py:24: UserWarning: Update your `Conv2D` call to the Keras 2 API: `Conv2D(10, (3, 3), activation=None)`\n"
          ],
          "name": "stderr"
        }
      ]
    },
    {
      "cell_type": "code",
      "metadata": {
        "id": "ciRt6E5i8fY1",
        "colab_type": "code",
        "outputId": "485b814f-f755-4896-d1b3-06c810947b18",
        "colab": {
          "base_uri": "https://localhost:8080/",
          "height": 807
        }
      },
      "source": [
        "# Shows the image shape after each convolution and the parameter count. Also, shows the trainable and non-trainable parameters. \n",
        "model.summary()"
      ],
      "execution_count": 0,
      "outputs": [
        {
          "output_type": "stream",
          "text": [
            "_________________________________________________________________\n",
            "Layer (type)                 Output Shape              Param #   \n",
            "=================================================================\n",
            "conv2d_1 (Conv2D)            (None, 26, 26, 12)        120       \n",
            "_________________________________________________________________\n",
            "batch_normalization_1 (Batch (None, 26, 26, 12)        48        \n",
            "_________________________________________________________________\n",
            "conv2d_2 (Conv2D)            (None, 24, 24, 24)        2616      \n",
            "_________________________________________________________________\n",
            "batch_normalization_2 (Batch (None, 24, 24, 24)        96        \n",
            "_________________________________________________________________\n",
            "conv2d_3 (Conv2D)            (None, 24, 24, 12)        300       \n",
            "_________________________________________________________________\n",
            "max_pooling2d_1 (MaxPooling2 (None, 12, 12, 12)        0         \n",
            "_________________________________________________________________\n",
            "conv2d_4 (Conv2D)            (None, 10, 10, 12)        1308      \n",
            "_________________________________________________________________\n",
            "batch_normalization_3 (Batch (None, 10, 10, 12)        48        \n",
            "_________________________________________________________________\n",
            "conv2d_5 (Conv2D)            (None, 8, 8, 18)          1962      \n",
            "_________________________________________________________________\n",
            "batch_normalization_4 (Batch (None, 8, 8, 18)          72        \n",
            "_________________________________________________________________\n",
            "conv2d_6 (Conv2D)            (None, 6, 6, 24)          3912      \n",
            "_________________________________________________________________\n",
            "batch_normalization_5 (Batch (None, 6, 6, 24)          96        \n",
            "_________________________________________________________________\n",
            "conv2d_7 (Conv2D)            (None, 6, 6, 10)          250       \n",
            "_________________________________________________________________\n",
            "max_pooling2d_2 (MaxPooling2 (None, 3, 3, 10)          0         \n",
            "_________________________________________________________________\n",
            "conv2d_8 (Conv2D)            (None, 1, 1, 10)          910       \n",
            "_________________________________________________________________\n",
            "batch_normalization_6 (Batch (None, 1, 1, 10)          40        \n",
            "_________________________________________________________________\n",
            "flatten_1 (Flatten)          (None, 10)                0         \n",
            "_________________________________________________________________\n",
            "activation_1 (Activation)    (None, 10)                0         \n",
            "=================================================================\n",
            "Total params: 11,778\n",
            "Trainable params: 11,578\n",
            "Non-trainable params: 200\n",
            "_________________________________________________________________\n"
          ],
          "name": "stdout"
        }
      ]
    },
    {
      "cell_type": "code",
      "metadata": {
        "id": "Zp6SuGrL9M3h",
        "colab_type": "code",
        "colab": {}
      },
      "source": [
        "# Compile the model: Specify loss function , optimizer e.g. SGD , adam etc.(in optimizer set learning rate which is a hyper-parameter)\n",
        "model.compile(loss='categorical_crossentropy',\n",
        "             optimizer='adam',\n",
        "             metrics=['accuracy'])"
      ],
      "execution_count": 0,
      "outputs": []
    },
    {
      "cell_type": "code",
      "metadata": {
        "id": "4xWoKhPY9Of5",
        "colab_type": "code",
        "outputId": "990e99cf-f52a-41a3-f086-2ea895b8906c",
        "colab": {
          "base_uri": "https://localhost:8080/",
          "height": 1249
        }
      },
      "source": [
        "# FIT \n",
        "model.fit(X_train, Y_train, batch_size=20, nb_epoch=30, verbose=1)"
      ],
      "execution_count": 0,
      "outputs": [
        {
          "output_type": "stream",
          "text": [
            "WARNING:tensorflow:From /usr/local/lib/python3.6/dist-packages/tensorflow/python/ops/math_ops.py:3066: to_int32 (from tensorflow.python.ops.math_ops) is deprecated and will be removed in a future version.\n",
            "Instructions for updating:\n",
            "Use tf.cast instead.\n"
          ],
          "name": "stdout"
        },
        {
          "output_type": "stream",
          "text": [
            "/usr/local/lib/python3.6/dist-packages/ipykernel_launcher.py:1: UserWarning: The `nb_epoch` argument in `fit` has been renamed `epochs`.\n",
            "  \"\"\"Entry point for launching an IPython kernel.\n"
          ],
          "name": "stderr"
        },
        {
          "output_type": "stream",
          "text": [
            "Epoch 1/30\n",
            "60000/60000 [==============================] - 36s 594us/step - loss: 0.4445 - acc: 0.9064\n",
            "Epoch 2/30\n",
            "60000/60000 [==============================] - 32s 533us/step - loss: 0.1809 - acc: 0.9609\n",
            "Epoch 3/30\n",
            "60000/60000 [==============================] - 33s 542us/step - loss: 0.1172 - acc: 0.9738\n",
            "Epoch 4/30\n",
            "60000/60000 [==============================] - 33s 542us/step - loss: 0.0887 - acc: 0.9791\n",
            "Epoch 5/30\n",
            "60000/60000 [==============================] - 32s 531us/step - loss: 0.0744 - acc: 0.9819\n",
            "Epoch 6/30\n",
            "60000/60000 [==============================] - 33s 550us/step - loss: 0.0625 - acc: 0.9845\n",
            "Epoch 7/30\n",
            "60000/60000 [==============================] - 34s 562us/step - loss: 0.0572 - acc: 0.9856\n",
            "Epoch 8/30\n",
            "60000/60000 [==============================] - 34s 562us/step - loss: 0.0491 - acc: 0.9873\n",
            "Epoch 9/30\n",
            "60000/60000 [==============================] - 34s 571us/step - loss: 0.0449 - acc: 0.9889\n",
            "Epoch 10/30\n",
            "60000/60000 [==============================] - 33s 542us/step - loss: 0.0438 - acc: 0.9884\n",
            "Epoch 11/30\n",
            "60000/60000 [==============================] - 34s 561us/step - loss: 0.0402 - acc: 0.9891\n",
            "Epoch 12/30\n",
            "60000/60000 [==============================] - 33s 542us/step - loss: 0.0364 - acc: 0.9900\n",
            "Epoch 13/30\n",
            "60000/60000 [==============================] - 34s 560us/step - loss: 0.0353 - acc: 0.9905\n",
            "Epoch 14/30\n",
            "60000/60000 [==============================] - 33s 543us/step - loss: 0.0335 - acc: 0.9908\n",
            "Epoch 15/30\n",
            "60000/60000 [==============================] - 33s 543us/step - loss: 0.0314 - acc: 0.9911\n",
            "Epoch 16/30\n",
            "60000/60000 [==============================] - 35s 575us/step - loss: 0.0291 - acc: 0.9920\n",
            "Epoch 17/30\n",
            "60000/60000 [==============================] - 33s 542us/step - loss: 0.0300 - acc: 0.9917\n",
            "Epoch 18/30\n",
            "60000/60000 [==============================] - 34s 562us/step - loss: 0.0285 - acc: 0.9922\n",
            "Epoch 19/30\n",
            "60000/60000 [==============================] - 34s 566us/step - loss: 0.0272 - acc: 0.9924\n",
            "Epoch 20/30\n",
            "60000/60000 [==============================] - 33s 557us/step - loss: 0.0250 - acc: 0.9929\n",
            "Epoch 21/30\n",
            "60000/60000 [==============================] - 33s 548us/step - loss: 0.0238 - acc: 0.9936\n",
            "Epoch 22/30\n",
            "60000/60000 [==============================] - 32s 541us/step - loss: 0.0241 - acc: 0.9933\n",
            "Epoch 23/30\n",
            "60000/60000 [==============================] - 34s 562us/step - loss: 0.0228 - acc: 0.9937\n",
            "Epoch 24/30\n",
            "60000/60000 [==============================] - 32s 541us/step - loss: 0.0231 - acc: 0.9937\n",
            "Epoch 25/30\n",
            "60000/60000 [==============================] - 34s 568us/step - loss: 0.0232 - acc: 0.9932\n",
            "Epoch 26/30\n",
            "60000/60000 [==============================] - 32s 541us/step - loss: 0.0215 - acc: 0.9938\n",
            "Epoch 27/30\n",
            "60000/60000 [==============================] - 32s 540us/step - loss: 0.0200 - acc: 0.9941\n",
            "Epoch 28/30\n",
            "60000/60000 [==============================] - 35s 581us/step - loss: 0.0192 - acc: 0.9946\n",
            "Epoch 29/30\n",
            "60000/60000 [==============================] - 32s 540us/step - loss: 0.0198 - acc: 0.9941\n",
            "Epoch 30/30\n",
            "60000/60000 [==============================] - 34s 560us/step - loss: 0.0188 - acc: 0.9944\n"
          ],
          "name": "stdout"
        },
        {
          "output_type": "execute_result",
          "data": {
            "text/plain": [
              "<keras.callbacks.History at 0x7f40a50f2da0>"
            ]
          },
          "metadata": {
            "tags": []
          },
          "execution_count": 13
        }
      ]
    },
    {
      "cell_type": "code",
      "metadata": {
        "id": "OCWoJkwE9suh",
        "colab_type": "code",
        "colab": {}
      },
      "source": [
        "# Making predictions on the test set and storing the result y_pred\n",
        "y_pred = model.predict(X_test)"
      ],
      "execution_count": 0,
      "outputs": []
    },
    {
      "cell_type": "code",
      "metadata": {
        "id": "fYkC_go_ZSDs",
        "colab_type": "code",
        "outputId": "c056bc92-5bb7-408c-a2e7-73b2c7ced6aa",
        "colab": {
          "base_uri": "https://localhost:8080/",
          "height": 35
        }
      },
      "source": [
        "# Evaluates the metrics i.e. Loss and Accuracy on the test set\n",
        "score = model.evaluate(X_test, Y_test, verbose=0)\n",
        "# Printing the metrics evaluated above\n",
        "print(score)"
      ],
      "execution_count": 0,
      "outputs": [
        {
          "output_type": "stream",
          "text": [
            "[0.02376448951968341, 0.9925]\n"
          ],
          "name": "stdout"
        }
      ]
    },
    {
      "cell_type": "markdown",
      "metadata": {
        "id": "AcgTfWbyBaje",
        "colab_type": "text"
      },
      "source": [
        "## Observation\n",
        "### As expected, batch Normalization increases the test accuracy by 0.24 % while there is not much fluctuation in train accuracy in comaprison to the previous Vanilla Network."
      ]
    },
    {
      "cell_type": "code",
      "metadata": {
        "id": "Ym7iCFBm9uBs",
        "colab_type": "code",
        "outputId": "3bbae8c7-528c-4e95-c4c1-ff3a457b52ab",
        "colab": {
          "base_uri": "https://localhost:8080/",
          "height": 366
        }
      },
      "source": [
        "# print the predicted class matrix and true test labels.\n",
        "print(y_pred[:9])\n",
        "print(y_test[:9])"
      ],
      "execution_count": 0,
      "outputs": [
        {
          "output_type": "stream",
          "text": [
            "[[9.5526246e-08 2.2590940e-07 4.6629001e-08 1.1578138e-07 9.3138069e-06\n",
            "  3.8271349e-08 3.9290203e-06 9.9998605e-01 4.7984323e-09 2.0127474e-07]\n",
            " [1.4601481e-05 1.3408256e-08 9.9997938e-01 8.2436863e-08 4.5662059e-06\n",
            "  4.4384638e-09 6.9463863e-07 4.4651046e-07 1.1428798e-07 4.3150575e-08]\n",
            " [4.4061585e-06 9.9996734e-01 3.4653019e-07 6.4168705e-07 2.0755715e-06\n",
            "  1.0404167e-05 4.7716135e-06 8.3751365e-06 5.3436145e-07 1.1814088e-06]\n",
            " [9.9998975e-01 5.6263144e-07 2.5285924e-08 6.7332905e-07 4.3437336e-07\n",
            "  1.0960831e-07 5.2495088e-06 2.5537356e-06 5.0798940e-07 3.6393054e-08]\n",
            " [2.0296591e-06 2.6081004e-06 3.0197593e-06 2.4004796e-06 9.9996793e-01\n",
            "  2.1400794e-07 7.7118909e-07 1.0900886e-06 1.0303715e-05 9.6104486e-06]\n",
            " [9.8732908e-06 9.9995649e-01 5.0941770e-07 3.7402356e-07 4.7226463e-06\n",
            "  1.4921360e-06 7.8662033e-06 1.5597469e-05 4.2783120e-07 2.6772827e-06]\n",
            " [8.4173888e-07 1.4717847e-05 9.7901318e-07 7.5328849e-08 9.9960989e-01\n",
            "  1.6552085e-04 5.6006803e-07 3.5511434e-06 1.1599652e-05 1.9231523e-04]\n",
            " [4.4959197e-07 1.1859306e-05 3.3936708e-06 4.6561130e-08 1.0858301e-06\n",
            "  1.3039098e-08 1.2002864e-07 4.9470636e-09 1.8166510e-07 9.9998283e-01]\n",
            " [5.8563768e-07 2.4616079e-07 8.6049931e-07 4.6027155e-05 2.3969949e-05\n",
            "  4.7913030e-01 5.2064216e-01 9.1471702e-05 6.3985186e-05 3.4671288e-07]]\n",
            "[7 2 1 0 4 1 4 9 5]\n"
          ],
          "name": "stdout"
        }
      ]
    },
    {
      "cell_type": "code",
      "metadata": {
        "id": "CT--y98_dr2T",
        "colab_type": "code",
        "colab": {}
      },
      "source": [
        "layer_dict = dict([(layer.name, layer) for layer in model.layers])"
      ],
      "execution_count": 0,
      "outputs": []
    },
    {
      "cell_type": "code",
      "metadata": {
        "id": "2GY4Upv4dsUR",
        "colab_type": "code",
        "outputId": "eec5d6a9-7983-4cfc-fbdd-cf1f7f4dc7d1",
        "colab": {
          "base_uri": "https://localhost:8080/",
          "height": 338
        }
      },
      "source": [
        "################# CODE TO VISUALIZE FEATURE MAPS ###############################\n",
        "import numpy as np\n",
        "from matplotlib import pyplot as plt\n",
        "from keras import backend as K\n",
        "%matplotlib inline\n",
        "# util function to convert a tensor into a valid image\n",
        "def deprocess_image(x):\n",
        "    # normalize tensor: center on 0., ensure std is 0.1\n",
        "    x -= x.mean()\n",
        "    x /= (x.std() + 1e-5)\n",
        "    x *= 0.1\n",
        "\n",
        "    # clip to [0, 1]\n",
        "    x += 0.5\n",
        "    x = np.clip(x, 0, 1)\n",
        "\n",
        "    # convert to RGB array\n",
        "    x *= 255\n",
        "    #x = x.transpose((1, 2, 0))\n",
        "    x = np.clip(x, 0, 255).astype('uint8')\n",
        "    return x\n",
        "\n",
        "def vis_img_in_filter(img = np.array(X_train[2]).reshape((1, 28, 28, 1)).astype(np.float64), \n",
        "                      layer_name = 'conv2d_65'):\n",
        "    layer_output = layer_dict[layer_name].output\n",
        "    img_ascs = list()\n",
        "    for filter_index in range(layer_output.shape[3]):\n",
        "        # build a loss function that maximizes the activation\n",
        "        # of the nth filter of the layer considered\n",
        "        loss = K.mean(layer_output[:, :, :, filter_index])\n",
        "\n",
        "        # compute the gradient of the input picture wrt this loss\n",
        "        grads = K.gradients(loss, model.input)[0]\n",
        "\n",
        "        # normalization trick: we normalize the gradient\n",
        "        grads /= (K.sqrt(K.mean(K.square(grads))) + 1e-5)\n",
        "\n",
        "        # this function returns the loss and grads given the input picture\n",
        "        iterate = K.function([model.input], [loss, grads])\n",
        "\n",
        "        # step size for gradient ascent\n",
        "        step = 5.\n",
        "\n",
        "        img_asc = np.array(img)\n",
        "        # run gradient ascent for 20 steps\n",
        "        for i in range(20):\n",
        "            loss_value, grads_value = iterate([img_asc])\n",
        "            img_asc += grads_value * step\n",
        "\n",
        "        img_asc = img_asc[0]\n",
        "        img_ascs.append(deprocess_image(img_asc).reshape((28, 28)))\n",
        "        \n",
        "    if layer_output.shape[3] >= 35:\n",
        "        plot_x, plot_y = 6, 6\n",
        "    elif layer_output.shape[3] >= 23:\n",
        "        plot_x, plot_y = 4, 6\n",
        "    elif layer_output.shape[3] >= 11:\n",
        "        plot_x, plot_y = 2, 6\n",
        "    else:\n",
        "        plot_x, plot_y = 1, 2\n",
        "    fig, ax = plt.subplots(plot_x, plot_y, figsize = (12, 12))\n",
        "    ax[0, 0].imshow(img.reshape((28, 28)), cmap = 'gray')\n",
        "    ax[0, 0].set_title('Input image')\n",
        "    fig.suptitle('Input image and %s filters' % (layer_name,))\n",
        "    fig.tight_layout(pad = 0.3, rect = [0, 0, 0.9, 0.9])\n",
        "    for (x, y) in [(i, j) for i in range(plot_x) for j in range(plot_y)]:\n",
        "        if x == 0 and y == 0:\n",
        "            continue\n",
        "        ax[x, y].imshow(img_ascs[x * plot_y + y - 1], cmap = 'gray')\n",
        "        ax[x, y].set_title('filter %d' % (x * plot_y + y - 1))\n",
        "\n",
        "vis_img_in_filter()"
      ],
      "execution_count": 0,
      "outputs": [
        {
          "output_type": "error",
          "ename": "KeyError",
          "evalue": "ignored",
          "traceback": [
            "\u001b[0;31m---------------------------------------------------------------------------\u001b[0m",
            "\u001b[0;31mKeyError\u001b[0m                                  Traceback (most recent call last)",
            "\u001b[0;32m<ipython-input-18-f76d59b59343>\u001b[0m in \u001b[0;36m<module>\u001b[0;34m()\u001b[0m\n\u001b[1;32m     69\u001b[0m         \u001b[0max\u001b[0m\u001b[0;34m[\u001b[0m\u001b[0mx\u001b[0m\u001b[0;34m,\u001b[0m \u001b[0my\u001b[0m\u001b[0;34m]\u001b[0m\u001b[0;34m.\u001b[0m\u001b[0mset_title\u001b[0m\u001b[0;34m(\u001b[0m\u001b[0;34m'filter %d'\u001b[0m \u001b[0;34m%\u001b[0m \u001b[0;34m(\u001b[0m\u001b[0mx\u001b[0m \u001b[0;34m*\u001b[0m \u001b[0mplot_y\u001b[0m \u001b[0;34m+\u001b[0m \u001b[0my\u001b[0m \u001b[0;34m-\u001b[0m \u001b[0;36m1\u001b[0m\u001b[0;34m)\u001b[0m\u001b[0;34m)\u001b[0m\u001b[0;34m\u001b[0m\u001b[0;34m\u001b[0m\u001b[0m\n\u001b[1;32m     70\u001b[0m \u001b[0;34m\u001b[0m\u001b[0m\n\u001b[0;32m---> 71\u001b[0;31m \u001b[0mvis_img_in_filter\u001b[0m\u001b[0;34m(\u001b[0m\u001b[0;34m)\u001b[0m\u001b[0;34m\u001b[0m\u001b[0;34m\u001b[0m\u001b[0m\n\u001b[0m",
            "\u001b[0;32m<ipython-input-18-f76d59b59343>\u001b[0m in \u001b[0;36mvis_img_in_filter\u001b[0;34m(img, layer_name)\u001b[0m\n\u001b[1;32m     22\u001b[0m def vis_img_in_filter(img = np.array(X_train[2]).reshape((1, 28, 28, 1)).astype(np.float64), \n\u001b[1;32m     23\u001b[0m                       layer_name = 'conv2d_65'):\n\u001b[0;32m---> 24\u001b[0;31m     \u001b[0mlayer_output\u001b[0m \u001b[0;34m=\u001b[0m \u001b[0mlayer_dict\u001b[0m\u001b[0;34m[\u001b[0m\u001b[0mlayer_name\u001b[0m\u001b[0;34m]\u001b[0m\u001b[0;34m.\u001b[0m\u001b[0moutput\u001b[0m\u001b[0;34m\u001b[0m\u001b[0;34m\u001b[0m\u001b[0m\n\u001b[0m\u001b[1;32m     25\u001b[0m     \u001b[0mimg_ascs\u001b[0m \u001b[0;34m=\u001b[0m \u001b[0mlist\u001b[0m\u001b[0;34m(\u001b[0m\u001b[0;34m)\u001b[0m\u001b[0;34m\u001b[0m\u001b[0;34m\u001b[0m\u001b[0m\n\u001b[1;32m     26\u001b[0m     \u001b[0;32mfor\u001b[0m \u001b[0mfilter_index\u001b[0m \u001b[0;32min\u001b[0m \u001b[0mrange\u001b[0m\u001b[0;34m(\u001b[0m\u001b[0mlayer_output\u001b[0m\u001b[0;34m.\u001b[0m\u001b[0mshape\u001b[0m\u001b[0;34m[\u001b[0m\u001b[0;36m3\u001b[0m\u001b[0;34m]\u001b[0m\u001b[0;34m)\u001b[0m\u001b[0;34m:\u001b[0m\u001b[0;34m\u001b[0m\u001b[0;34m\u001b[0m\u001b[0m\n",
            "\u001b[0;31mKeyError\u001b[0m: 'conv2d_65'"
          ]
        }
      ]
    }
  ]
}